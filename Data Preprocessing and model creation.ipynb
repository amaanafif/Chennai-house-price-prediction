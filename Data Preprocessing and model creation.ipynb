{
 "cells": [
  {
   "cell_type": "code",
   "execution_count": 1,
   "id": "3a2b9bb8",
   "metadata": {},
   "outputs": [],
   "source": [
    "# importing required libraries\n",
    "import pandas as pd\n",
    "import numpy as np\n",
    "import matplotlib\n",
    "import matplotlib.pyplot as plt\n",
    "import seaborn as sns\n",
    "%matplotlib inline\n",
    "import warnings\n",
    "warnings.filterwarnings('ignore')"
   ]
  },
  {
   "cell_type": "code",
   "execution_count": 2,
   "id": "96548eb4",
   "metadata": {},
   "outputs": [],
   "source": [
    "# Reading the cleaned data\n",
    "df1 = pd.read_csv(\"clean_data.csv\")"
   ]
  },
  {
   "cell_type": "code",
   "execution_count": 3,
   "id": "5e3db2dd",
   "metadata": {},
   "outputs": [
    {
     "data": {
      "text/html": [
       "<div>\n",
       "<style scoped>\n",
       "    .dataframe tbody tr th:only-of-type {\n",
       "        vertical-align: middle;\n",
       "    }\n",
       "\n",
       "    .dataframe tbody tr th {\n",
       "        vertical-align: top;\n",
       "    }\n",
       "\n",
       "    .dataframe thead th {\n",
       "        text-align: right;\n",
       "    }\n",
       "</style>\n",
       "<table border=\"1\" class=\"dataframe\">\n",
       "  <thead>\n",
       "    <tr style=\"text-align: right;\">\n",
       "      <th></th>\n",
       "      <th>price</th>\n",
       "      <th>area</th>\n",
       "      <th>status</th>\n",
       "      <th>bhk</th>\n",
       "      <th>bathroom</th>\n",
       "      <th>age</th>\n",
       "      <th>location</th>\n",
       "      <th>builder</th>\n",
       "    </tr>\n",
       "  </thead>\n",
       "  <tbody>\n",
       "    <tr>\n",
       "      <th>0</th>\n",
       "      <td>37.49</td>\n",
       "      <td>872</td>\n",
       "      <td>Ready to move</td>\n",
       "      <td>2</td>\n",
       "      <td>NaN</td>\n",
       "      <td>1.0</td>\n",
       "      <td>Sembakkam</td>\n",
       "      <td>MP Developers</td>\n",
       "    </tr>\n",
       "    <tr>\n",
       "      <th>1</th>\n",
       "      <td>93.54</td>\n",
       "      <td>1346</td>\n",
       "      <td>Under Construction</td>\n",
       "      <td>3</td>\n",
       "      <td>2.0</td>\n",
       "      <td>NaN</td>\n",
       "      <td>Selaiyur</td>\n",
       "      <td>DAC Promoters</td>\n",
       "    </tr>\n",
       "    <tr>\n",
       "      <th>2</th>\n",
       "      <td>151.00</td>\n",
       "      <td>2225</td>\n",
       "      <td>Under Construction</td>\n",
       "      <td>3</td>\n",
       "      <td>NaN</td>\n",
       "      <td>0.0</td>\n",
       "      <td>Mogappair</td>\n",
       "      <td>Casagrand Builder Private Limited</td>\n",
       "    </tr>\n",
       "    <tr>\n",
       "      <th>3</th>\n",
       "      <td>49.00</td>\n",
       "      <td>1028</td>\n",
       "      <td>Ready to move</td>\n",
       "      <td>2</td>\n",
       "      <td>2.0</td>\n",
       "      <td>3.0</td>\n",
       "      <td>Ambattur</td>\n",
       "      <td>Dugar Housing Builders</td>\n",
       "    </tr>\n",
       "    <tr>\n",
       "      <th>4</th>\n",
       "      <td>42.28</td>\n",
       "      <td>588</td>\n",
       "      <td>Under Construction</td>\n",
       "      <td>2</td>\n",
       "      <td>1.0</td>\n",
       "      <td>0.0</td>\n",
       "      <td>Pallavaram</td>\n",
       "      <td>Radiance Realty Developers India Ltd</td>\n",
       "    </tr>\n",
       "  </tbody>\n",
       "</table>\n",
       "</div>"
      ],
      "text/plain": [
       "    price  area              status  bhk  bathroom  age    location  \\\n",
       "0   37.49   872       Ready to move    2       NaN  1.0   Sembakkam   \n",
       "1   93.54  1346  Under Construction    3       2.0  NaN    Selaiyur   \n",
       "2  151.00  2225  Under Construction    3       NaN  0.0   Mogappair   \n",
       "3   49.00  1028       Ready to move    2       2.0  3.0    Ambattur   \n",
       "4   42.28   588  Under Construction    2       1.0  0.0  Pallavaram   \n",
       "\n",
       "                                builder  \n",
       "0                         MP Developers  \n",
       "1                         DAC Promoters  \n",
       "2     Casagrand Builder Private Limited  \n",
       "3                Dugar Housing Builders  \n",
       "4  Radiance Realty Developers India Ltd  "
      ]
     },
     "execution_count": 3,
     "metadata": {},
     "output_type": "execute_result"
    }
   ],
   "source": [
    "# Checking the data\n",
    "df1.head()"
   ]
  },
  {
   "cell_type": "code",
   "execution_count": 4,
   "id": "15aaa3ec",
   "metadata": {},
   "outputs": [
    {
     "data": {
      "text/plain": [
       "(2620, 8)"
      ]
     },
     "execution_count": 4,
     "metadata": {},
     "output_type": "execute_result"
    }
   ],
   "source": [
    "# Checking shape\n",
    "df1.shape"
   ]
  },
  {
   "cell_type": "code",
   "execution_count": 5,
   "id": "dd2f212b",
   "metadata": {},
   "outputs": [
    {
     "name": "stdout",
     "output_type": "stream",
     "text": [
      "<class 'pandas.core.frame.DataFrame'>\n",
      "RangeIndex: 2620 entries, 0 to 2619\n",
      "Data columns (total 8 columns):\n",
      " #   Column    Non-Null Count  Dtype  \n",
      "---  ------    --------------  -----  \n",
      " 0   price     2620 non-null   float64\n",
      " 1   area      2620 non-null   int64  \n",
      " 2   status    2620 non-null   object \n",
      " 3   bhk       2620 non-null   int64  \n",
      " 4   bathroom  1403 non-null   float64\n",
      " 5   age       1729 non-null   float64\n",
      " 6   location  2620 non-null   object \n",
      " 7   builder   2620 non-null   object \n",
      "dtypes: float64(3), int64(2), object(3)\n",
      "memory usage: 163.9+ KB\n"
     ]
    }
   ],
   "source": [
    "# Checking datatypes and null values\n",
    "df1.info()"
   ]
  },
  {
   "cell_type": "code",
   "execution_count": 6,
   "id": "3af13024",
   "metadata": {},
   "outputs": [],
   "source": [
    "# Filling null with -1\n",
    "df1[\"bathroom\"].fillna(-1, inplace = True)\n",
    "df1[\"age\"].fillna(-1, inplace = True)"
   ]
  },
  {
   "cell_type": "code",
   "execution_count": 7,
   "id": "f0079622",
   "metadata": {},
   "outputs": [
    {
     "data": {
      "text/html": [
       "<div>\n",
       "<style scoped>\n",
       "    .dataframe tbody tr th:only-of-type {\n",
       "        vertical-align: middle;\n",
       "    }\n",
       "\n",
       "    .dataframe tbody tr th {\n",
       "        vertical-align: top;\n",
       "    }\n",
       "\n",
       "    .dataframe thead th {\n",
       "        text-align: right;\n",
       "    }\n",
       "</style>\n",
       "<table border=\"1\" class=\"dataframe\">\n",
       "  <thead>\n",
       "    <tr style=\"text-align: right;\">\n",
       "      <th></th>\n",
       "      <th>count</th>\n",
       "      <th>mean</th>\n",
       "      <th>std</th>\n",
       "      <th>min</th>\n",
       "      <th>25%</th>\n",
       "      <th>50%</th>\n",
       "      <th>75%</th>\n",
       "      <th>max</th>\n",
       "    </tr>\n",
       "  </thead>\n",
       "  <tbody>\n",
       "    <tr>\n",
       "      <th>price</th>\n",
       "      <td>2620.0</td>\n",
       "      <td>93.834683</td>\n",
       "      <td>113.609349</td>\n",
       "      <td>12.83</td>\n",
       "      <td>42.0</td>\n",
       "      <td>61.735</td>\n",
       "      <td>90.00</td>\n",
       "      <td>1422.0</td>\n",
       "    </tr>\n",
       "    <tr>\n",
       "      <th>area</th>\n",
       "      <td>2620.0</td>\n",
       "      <td>1282.925191</td>\n",
       "      <td>692.566319</td>\n",
       "      <td>300.00</td>\n",
       "      <td>877.0</td>\n",
       "      <td>1091.500</td>\n",
       "      <td>1471.25</td>\n",
       "      <td>6700.0</td>\n",
       "    </tr>\n",
       "    <tr>\n",
       "      <th>bhk</th>\n",
       "      <td>2620.0</td>\n",
       "      <td>2.443893</td>\n",
       "      <td>0.811984</td>\n",
       "      <td>1.00</td>\n",
       "      <td>2.0</td>\n",
       "      <td>2.000</td>\n",
       "      <td>3.00</td>\n",
       "      <td>8.0</td>\n",
       "    </tr>\n",
       "    <tr>\n",
       "      <th>bathroom</th>\n",
       "      <td>2620.0</td>\n",
       "      <td>0.798855</td>\n",
       "      <td>1.786098</td>\n",
       "      <td>-1.00</td>\n",
       "      <td>-1.0</td>\n",
       "      <td>1.000</td>\n",
       "      <td>2.00</td>\n",
       "      <td>7.0</td>\n",
       "    </tr>\n",
       "    <tr>\n",
       "      <th>age</th>\n",
       "      <td>2620.0</td>\n",
       "      <td>0.554198</td>\n",
       "      <td>2.040194</td>\n",
       "      <td>-1.00</td>\n",
       "      <td>-1.0</td>\n",
       "      <td>0.000</td>\n",
       "      <td>1.00</td>\n",
       "      <td>32.0</td>\n",
       "    </tr>\n",
       "  </tbody>\n",
       "</table>\n",
       "</div>"
      ],
      "text/plain": [
       "           count         mean         std     min    25%       50%      75%  \\\n",
       "price     2620.0    93.834683  113.609349   12.83   42.0    61.735    90.00   \n",
       "area      2620.0  1282.925191  692.566319  300.00  877.0  1091.500  1471.25   \n",
       "bhk       2620.0     2.443893    0.811984    1.00    2.0     2.000     3.00   \n",
       "bathroom  2620.0     0.798855    1.786098   -1.00   -1.0     1.000     2.00   \n",
       "age       2620.0     0.554198    2.040194   -1.00   -1.0     0.000     1.00   \n",
       "\n",
       "             max  \n",
       "price     1422.0  \n",
       "area      6700.0  \n",
       "bhk          8.0  \n",
       "bathroom     7.0  \n",
       "age         32.0  "
      ]
     },
     "execution_count": 7,
     "metadata": {},
     "output_type": "execute_result"
    }
   ],
   "source": [
    "df1.describe().T"
   ]
  },
  {
   "cell_type": "code",
   "execution_count": 8,
   "id": "a6783146",
   "metadata": {},
   "outputs": [],
   "source": [
    "# Function to add missing bathroom values\n",
    "def bath_finder(x,y):\n",
    "    if y == -1:\n",
    "        if x >= 5:\n",
    "            return x+1\n",
    "        elif x == 4 | x == 3:\n",
    "            return  x\n",
    "        elif x == 1:\n",
    "            return x\n",
    "        else:\n",
    "            return x-1\n",
    "    else:\n",
    "        return y\n",
    "    \n",
    "df1[\"bath\"] = df1.apply(lambda x: bath_finder(x[\"bhk\"], x[\"bathroom\"]), axis = 1)"
   ]
  },
  {
   "cell_type": "code",
   "execution_count": 9,
   "id": "cdd4ceca",
   "metadata": {},
   "outputs": [
    {
     "name": "stdout",
     "output_type": "stream",
     "text": [
      "<class 'pandas.core.frame.DataFrame'>\n",
      "RangeIndex: 2620 entries, 0 to 2619\n",
      "Data columns (total 9 columns):\n",
      " #   Column    Non-Null Count  Dtype  \n",
      "---  ------    --------------  -----  \n",
      " 0   price     2620 non-null   float64\n",
      " 1   area      2620 non-null   int64  \n",
      " 2   status    2620 non-null   object \n",
      " 3   bhk       2620 non-null   int64  \n",
      " 4   bathroom  2620 non-null   float64\n",
      " 5   age       2620 non-null   float64\n",
      " 6   location  2620 non-null   object \n",
      " 7   builder   2620 non-null   object \n",
      " 8   bath      2620 non-null   float64\n",
      "dtypes: float64(4), int64(2), object(3)\n",
      "memory usage: 184.3+ KB\n"
     ]
    }
   ],
   "source": [
    "df1.info()"
   ]
  },
  {
   "cell_type": "code",
   "execution_count": 10,
   "id": "27b6b109",
   "metadata": {},
   "outputs": [
    {
     "data": {
      "text/html": [
       "<div>\n",
       "<style scoped>\n",
       "    .dataframe tbody tr th:only-of-type {\n",
       "        vertical-align: middle;\n",
       "    }\n",
       "\n",
       "    .dataframe tbody tr th {\n",
       "        vertical-align: top;\n",
       "    }\n",
       "\n",
       "    .dataframe thead th {\n",
       "        text-align: right;\n",
       "    }\n",
       "</style>\n",
       "<table border=\"1\" class=\"dataframe\">\n",
       "  <thead>\n",
       "    <tr style=\"text-align: right;\">\n",
       "      <th></th>\n",
       "      <th>price</th>\n",
       "      <th>area</th>\n",
       "      <th>status</th>\n",
       "      <th>bhk</th>\n",
       "      <th>bathroom</th>\n",
       "      <th>age</th>\n",
       "      <th>location</th>\n",
       "      <th>builder</th>\n",
       "      <th>bath</th>\n",
       "    </tr>\n",
       "  </thead>\n",
       "  <tbody>\n",
       "    <tr>\n",
       "      <th>0</th>\n",
       "      <td>37.49</td>\n",
       "      <td>872</td>\n",
       "      <td>Ready to move</td>\n",
       "      <td>2</td>\n",
       "      <td>-1.0</td>\n",
       "      <td>1.0</td>\n",
       "      <td>Sembakkam</td>\n",
       "      <td>MP Developers</td>\n",
       "      <td>1.0</td>\n",
       "    </tr>\n",
       "    <tr>\n",
       "      <th>1</th>\n",
       "      <td>93.54</td>\n",
       "      <td>1346</td>\n",
       "      <td>Under Construction</td>\n",
       "      <td>3</td>\n",
       "      <td>2.0</td>\n",
       "      <td>-1.0</td>\n",
       "      <td>Selaiyur</td>\n",
       "      <td>DAC Promoters</td>\n",
       "      <td>2.0</td>\n",
       "    </tr>\n",
       "    <tr>\n",
       "      <th>2</th>\n",
       "      <td>151.00</td>\n",
       "      <td>2225</td>\n",
       "      <td>Under Construction</td>\n",
       "      <td>3</td>\n",
       "      <td>-1.0</td>\n",
       "      <td>0.0</td>\n",
       "      <td>Mogappair</td>\n",
       "      <td>Casagrand Builder Private Limited</td>\n",
       "      <td>2.0</td>\n",
       "    </tr>\n",
       "    <tr>\n",
       "      <th>3</th>\n",
       "      <td>49.00</td>\n",
       "      <td>1028</td>\n",
       "      <td>Ready to move</td>\n",
       "      <td>2</td>\n",
       "      <td>2.0</td>\n",
       "      <td>3.0</td>\n",
       "      <td>Ambattur</td>\n",
       "      <td>Dugar Housing Builders</td>\n",
       "      <td>2.0</td>\n",
       "    </tr>\n",
       "    <tr>\n",
       "      <th>4</th>\n",
       "      <td>42.28</td>\n",
       "      <td>588</td>\n",
       "      <td>Under Construction</td>\n",
       "      <td>2</td>\n",
       "      <td>1.0</td>\n",
       "      <td>0.0</td>\n",
       "      <td>Pallavaram</td>\n",
       "      <td>Radiance Realty Developers India Ltd</td>\n",
       "      <td>1.0</td>\n",
       "    </tr>\n",
       "  </tbody>\n",
       "</table>\n",
       "</div>"
      ],
      "text/plain": [
       "    price  area              status  bhk  bathroom  age    location  \\\n",
       "0   37.49   872       Ready to move    2      -1.0  1.0   Sembakkam   \n",
       "1   93.54  1346  Under Construction    3       2.0 -1.0    Selaiyur   \n",
       "2  151.00  2225  Under Construction    3      -1.0  0.0   Mogappair   \n",
       "3   49.00  1028       Ready to move    2       2.0  3.0    Ambattur   \n",
       "4   42.28   588  Under Construction    2       1.0  0.0  Pallavaram   \n",
       "\n",
       "                                builder  bath  \n",
       "0                         MP Developers   1.0  \n",
       "1                         DAC Promoters   2.0  \n",
       "2     Casagrand Builder Private Limited   2.0  \n",
       "3                Dugar Housing Builders   2.0  \n",
       "4  Radiance Realty Developers India Ltd   1.0  "
      ]
     },
     "execution_count": 10,
     "metadata": {},
     "output_type": "execute_result"
    }
   ],
   "source": [
    "df1.head()"
   ]
  },
  {
   "cell_type": "code",
   "execution_count": 11,
   "id": "545142ca",
   "metadata": {},
   "outputs": [],
   "source": [
    "# Function to add missing age values\n",
    "def age_finder(x):\n",
    "    if x == -1:\n",
    "        return 0\n",
    "    else:\n",
    "        return x\n",
    "df1['year'] = df1['age'].apply(age_finder)"
   ]
  },
  {
   "cell_type": "code",
   "execution_count": 12,
   "id": "c3421e32",
   "metadata": {},
   "outputs": [
    {
     "data": {
      "text/html": [
       "<div>\n",
       "<style scoped>\n",
       "    .dataframe tbody tr th:only-of-type {\n",
       "        vertical-align: middle;\n",
       "    }\n",
       "\n",
       "    .dataframe tbody tr th {\n",
       "        vertical-align: top;\n",
       "    }\n",
       "\n",
       "    .dataframe thead th {\n",
       "        text-align: right;\n",
       "    }\n",
       "</style>\n",
       "<table border=\"1\" class=\"dataframe\">\n",
       "  <thead>\n",
       "    <tr style=\"text-align: right;\">\n",
       "      <th></th>\n",
       "      <th>price</th>\n",
       "      <th>area</th>\n",
       "      <th>status</th>\n",
       "      <th>bhk</th>\n",
       "      <th>bathroom</th>\n",
       "      <th>age</th>\n",
       "      <th>location</th>\n",
       "      <th>builder</th>\n",
       "      <th>bath</th>\n",
       "      <th>year</th>\n",
       "    </tr>\n",
       "  </thead>\n",
       "  <tbody>\n",
       "    <tr>\n",
       "      <th>0</th>\n",
       "      <td>37.49</td>\n",
       "      <td>872</td>\n",
       "      <td>Ready to move</td>\n",
       "      <td>2</td>\n",
       "      <td>-1.0</td>\n",
       "      <td>1.0</td>\n",
       "      <td>Sembakkam</td>\n",
       "      <td>MP Developers</td>\n",
       "      <td>1.0</td>\n",
       "      <td>1.0</td>\n",
       "    </tr>\n",
       "    <tr>\n",
       "      <th>1</th>\n",
       "      <td>93.54</td>\n",
       "      <td>1346</td>\n",
       "      <td>Under Construction</td>\n",
       "      <td>3</td>\n",
       "      <td>2.0</td>\n",
       "      <td>-1.0</td>\n",
       "      <td>Selaiyur</td>\n",
       "      <td>DAC Promoters</td>\n",
       "      <td>2.0</td>\n",
       "      <td>0.0</td>\n",
       "    </tr>\n",
       "    <tr>\n",
       "      <th>2</th>\n",
       "      <td>151.00</td>\n",
       "      <td>2225</td>\n",
       "      <td>Under Construction</td>\n",
       "      <td>3</td>\n",
       "      <td>-1.0</td>\n",
       "      <td>0.0</td>\n",
       "      <td>Mogappair</td>\n",
       "      <td>Casagrand Builder Private Limited</td>\n",
       "      <td>2.0</td>\n",
       "      <td>0.0</td>\n",
       "    </tr>\n",
       "    <tr>\n",
       "      <th>3</th>\n",
       "      <td>49.00</td>\n",
       "      <td>1028</td>\n",
       "      <td>Ready to move</td>\n",
       "      <td>2</td>\n",
       "      <td>2.0</td>\n",
       "      <td>3.0</td>\n",
       "      <td>Ambattur</td>\n",
       "      <td>Dugar Housing Builders</td>\n",
       "      <td>2.0</td>\n",
       "      <td>3.0</td>\n",
       "    </tr>\n",
       "    <tr>\n",
       "      <th>4</th>\n",
       "      <td>42.28</td>\n",
       "      <td>588</td>\n",
       "      <td>Under Construction</td>\n",
       "      <td>2</td>\n",
       "      <td>1.0</td>\n",
       "      <td>0.0</td>\n",
       "      <td>Pallavaram</td>\n",
       "      <td>Radiance Realty Developers India Ltd</td>\n",
       "      <td>1.0</td>\n",
       "      <td>0.0</td>\n",
       "    </tr>\n",
       "  </tbody>\n",
       "</table>\n",
       "</div>"
      ],
      "text/plain": [
       "    price  area              status  bhk  bathroom  age    location  \\\n",
       "0   37.49   872       Ready to move    2      -1.0  1.0   Sembakkam   \n",
       "1   93.54  1346  Under Construction    3       2.0 -1.0    Selaiyur   \n",
       "2  151.00  2225  Under Construction    3      -1.0  0.0   Mogappair   \n",
       "3   49.00  1028       Ready to move    2       2.0  3.0    Ambattur   \n",
       "4   42.28   588  Under Construction    2       1.0  0.0  Pallavaram   \n",
       "\n",
       "                                builder  bath  year  \n",
       "0                         MP Developers   1.0   1.0  \n",
       "1                         DAC Promoters   2.0   0.0  \n",
       "2     Casagrand Builder Private Limited   2.0   0.0  \n",
       "3                Dugar Housing Builders   2.0   3.0  \n",
       "4  Radiance Realty Developers India Ltd   1.0   0.0  "
      ]
     },
     "execution_count": 12,
     "metadata": {},
     "output_type": "execute_result"
    }
   ],
   "source": [
    "df1.head()"
   ]
  },
  {
   "cell_type": "code",
   "execution_count": 13,
   "id": "cdeb370a",
   "metadata": {},
   "outputs": [],
   "source": [
    "# Dropping old columns\n",
    "df1.drop(['bathroom','age'],axis=1,inplace=True)"
   ]
  },
  {
   "cell_type": "code",
   "execution_count": 14,
   "id": "1bf47761",
   "metadata": {},
   "outputs": [
    {
     "data": {
      "text/html": [
       "<div>\n",
       "<style scoped>\n",
       "    .dataframe tbody tr th:only-of-type {\n",
       "        vertical-align: middle;\n",
       "    }\n",
       "\n",
       "    .dataframe tbody tr th {\n",
       "        vertical-align: top;\n",
       "    }\n",
       "\n",
       "    .dataframe thead th {\n",
       "        text-align: right;\n",
       "    }\n",
       "</style>\n",
       "<table border=\"1\" class=\"dataframe\">\n",
       "  <thead>\n",
       "    <tr style=\"text-align: right;\">\n",
       "      <th></th>\n",
       "      <th>price</th>\n",
       "      <th>area</th>\n",
       "      <th>status</th>\n",
       "      <th>bhk</th>\n",
       "      <th>location</th>\n",
       "      <th>builder</th>\n",
       "      <th>bath</th>\n",
       "      <th>year</th>\n",
       "    </tr>\n",
       "  </thead>\n",
       "  <tbody>\n",
       "    <tr>\n",
       "      <th>0</th>\n",
       "      <td>37.49</td>\n",
       "      <td>872</td>\n",
       "      <td>Ready to move</td>\n",
       "      <td>2</td>\n",
       "      <td>Sembakkam</td>\n",
       "      <td>MP Developers</td>\n",
       "      <td>1.0</td>\n",
       "      <td>1.0</td>\n",
       "    </tr>\n",
       "    <tr>\n",
       "      <th>1</th>\n",
       "      <td>93.54</td>\n",
       "      <td>1346</td>\n",
       "      <td>Under Construction</td>\n",
       "      <td>3</td>\n",
       "      <td>Selaiyur</td>\n",
       "      <td>DAC Promoters</td>\n",
       "      <td>2.0</td>\n",
       "      <td>0.0</td>\n",
       "    </tr>\n",
       "    <tr>\n",
       "      <th>2</th>\n",
       "      <td>151.00</td>\n",
       "      <td>2225</td>\n",
       "      <td>Under Construction</td>\n",
       "      <td>3</td>\n",
       "      <td>Mogappair</td>\n",
       "      <td>Casagrand Builder Private Limited</td>\n",
       "      <td>2.0</td>\n",
       "      <td>0.0</td>\n",
       "    </tr>\n",
       "    <tr>\n",
       "      <th>3</th>\n",
       "      <td>49.00</td>\n",
       "      <td>1028</td>\n",
       "      <td>Ready to move</td>\n",
       "      <td>2</td>\n",
       "      <td>Ambattur</td>\n",
       "      <td>Dugar Housing Builders</td>\n",
       "      <td>2.0</td>\n",
       "      <td>3.0</td>\n",
       "    </tr>\n",
       "    <tr>\n",
       "      <th>4</th>\n",
       "      <td>42.28</td>\n",
       "      <td>588</td>\n",
       "      <td>Under Construction</td>\n",
       "      <td>2</td>\n",
       "      <td>Pallavaram</td>\n",
       "      <td>Radiance Realty Developers India Ltd</td>\n",
       "      <td>1.0</td>\n",
       "      <td>0.0</td>\n",
       "    </tr>\n",
       "  </tbody>\n",
       "</table>\n",
       "</div>"
      ],
      "text/plain": [
       "    price  area              status  bhk    location  \\\n",
       "0   37.49   872       Ready to move    2   Sembakkam   \n",
       "1   93.54  1346  Under Construction    3    Selaiyur   \n",
       "2  151.00  2225  Under Construction    3   Mogappair   \n",
       "3   49.00  1028       Ready to move    2    Ambattur   \n",
       "4   42.28   588  Under Construction    2  Pallavaram   \n",
       "\n",
       "                                builder  bath  year  \n",
       "0                         MP Developers   1.0   1.0  \n",
       "1                         DAC Promoters   2.0   0.0  \n",
       "2     Casagrand Builder Private Limited   2.0   0.0  \n",
       "3                Dugar Housing Builders   2.0   3.0  \n",
       "4  Radiance Realty Developers India Ltd   1.0   0.0  "
      ]
     },
     "execution_count": 14,
     "metadata": {},
     "output_type": "execute_result"
    }
   ],
   "source": [
    "df1.head()"
   ]
  },
  {
   "cell_type": "code",
   "execution_count": 15,
   "id": "0abd0ecd",
   "metadata": {},
   "outputs": [
    {
     "data": {
      "text/plain": [
       "array([2, 3, 4, 1, 5, 6, 8], dtype=int64)"
      ]
     },
     "execution_count": 15,
     "metadata": {},
     "output_type": "execute_result"
    }
   ],
   "source": [
    "df1['bhk'].unique()"
   ]
  },
  {
   "cell_type": "code",
   "execution_count": 16,
   "id": "2a5547c6",
   "metadata": {},
   "outputs": [
    {
     "data": {
      "text/plain": [
       "array([1., 2., 3., 4., 6., 5., 7.])"
      ]
     },
     "execution_count": 16,
     "metadata": {},
     "output_type": "execute_result"
    }
   ],
   "source": [
    "df1['bath'].unique()"
   ]
  },
  {
   "cell_type": "code",
   "execution_count": 17,
   "id": "bda07730",
   "metadata": {},
   "outputs": [
    {
     "data": {
      "text/plain": [
       "array([ 1.,  0.,  3.,  6.,  5.,  2.,  4., 11.,  7., 13.,  9., 12., 16.,\n",
       "       17.,  8., 32.])"
      ]
     },
     "execution_count": 17,
     "metadata": {},
     "output_type": "execute_result"
    }
   ],
   "source": [
    "df1['year'].unique()"
   ]
  },
  {
   "cell_type": "code",
   "execution_count": 18,
   "id": "8328642a",
   "metadata": {},
   "outputs": [
    {
     "data": {
      "text/plain": [
       "array(['Ready to move', 'Under Construction'], dtype=object)"
      ]
     },
     "execution_count": 18,
     "metadata": {},
     "output_type": "execute_result"
    }
   ],
   "source": [
    "df1['status'].unique()"
   ]
  },
  {
   "cell_type": "code",
   "execution_count": 19,
   "id": "30c601f2",
   "metadata": {},
   "outputs": [
    {
     "data": {
      "text/plain": [
       "array(['Sembakkam', 'Selaiyur', 'Mogappair', 'Ambattur', 'Pallavaram',\n",
       "       'Virugambakkam', 'Thirumazhisai', 'Moolakadai', 'Ottiyambakkam',\n",
       "       'Perungalathur', 'Gerugambakkam', 'Anna Nagar', 'Gopalapuram',\n",
       "       'Pammal', 'Porur', 'Navallur', 'Sholinganallur', 'Vanagaram',\n",
       "       'T Nagar', 'Guindy', 'Madipakkam', 'Perumbakkam', 'Velachery',\n",
       "       'Medavakkam', 'Gowrivakkam', 'Chromepet', 'Thalambur', 'Thandalam',\n",
       "       'Ayanambakkam', 'Kanathur Reddikuppam', 'Adyar', 'Kolapakkam',\n",
       "       'Thaiyur', 'Thoraipakkam OMR', 'Poonamallee', 'Padur',\n",
       "       'East Tambaram', 'Tiruvottiyur', 'Iyappanthangal', 'Padappai',\n",
       "       'Mugalivakkam', 'Kelambakkam', 'Thirumullaivoyal', 'Madhavaram',\n",
       "       'Kundrathur', 'Vengaivasal', 'Siruseri', 'Manapakkam',\n",
       "       'Karapakkam', 'Sithalapakkam', 'Madambakkam', 'Perungudi',\n",
       "       'Vadapalani', 'Alwarpet', 'Thiruvidandhai', 'Kotturpuram',\n",
       "       'Velappanchavadi', 'Kilpauk', 'Besant Nagar', 'Vellakkal', 'Avadi',\n",
       "       'Kolathur', 'Thiruvanmiyur', 'Periyar Nagar', 'Nanmangalam',\n",
       "       'Anakaputhur', 'Urapakkam', 'Kovur', 'Nungambakkam', 'Maduravoyal',\n",
       "       'Guduvancheri', 'Koyambedu', 'Korattur', 'Iyyappanthangal',\n",
       "       'Madhavaram Milk Colony', 'Jeth Nagar', 'Mangadu',\n",
       "       'Singaperumal Koil', 'Madhanandapuram', 'Kandigai', 'Veppampattu',\n",
       "       'Saidapet', 'Oragadam Village Ambattur Talu', 'Pattabiram',\n",
       "       'Mahabalipuram', 'Ayapakkam', 'Chitlapakkam', 'Puzhal',\n",
       "       'Washermanpet', 'Thiruverkadu', 'Pozhichalur', 'Mannur',\n",
       "       'West Mambalam', 'Kattupakkam', 'Maraimalai Nagar', 'Chetpet',\n",
       "       'Ramapuram', 'Alandur', 'Red Hills', 'K K Nagar', 'Purasawalkam',\n",
       "       'Ramavaram', 'Shenoy Nagar', 'Saligramam', 'Royapettah',\n",
       "       'Valasaravakkam', 'Semmancheri', 'Ottiyabakkam', 'Nanganallur',\n",
       "       'Pallikaranai', 'Muttukadu', 'Tharapakkam', 'Egmore',\n",
       "       'Anna Nagar East', 'Ayanavaram', 'Raja Annamalai Puram',\n",
       "       'Aminjikarai', 'Purasaiwakkam', 'Periyapanicheri',\n",
       "       'Kattankulathur', 'Kotivakkam', 'Kumananchavadi', 'Perumalpattu',\n",
       "       'Kodambakkam', 'Sevvapet', 'tambaram west', 'Kovilambakkam',\n",
       "       'Rajakilpakkam', 'Villivakkam', 'Chengalpattu', 'Cholambedu',\n",
       "       'Nesapakkam', 'Padapai', 'Neelankarai', 'Vadanemmeli',\n",
       "       'Kumaran Nagar', 'Ashok Nagar', 'Adambakam', 'Perambur',\n",
       "       'Keelkattalai', 'Kodungaiyur West', 'Pudupakkam', 'Padi',\n",
       "       'Mogappair East', 'Elandanur', 'Pazavanthangal', 'Thiruporur',\n",
       "       'Moolacheri', 'Kolapakkam Vandalur', 'Veppampatttu', 'Manali',\n",
       "       'Jamalia', 'Kottivakkam', 'Gokulapuram', 'Iyyapa Nagar',\n",
       "       'West Tambaram', 'Old Pallavaram', 'Sriperumbudur',\n",
       "       'Ponniammanmedu', 'Kovalam', 'CIT Nagar', 'Agaramthen',\n",
       "       'Vengambakkam', 'Mambakkam', 'Nallambakkam', 'Peerakankaranai',\n",
       "       'Rathinamangalam', 'Nandambakkam', 'Jafferkhanpet', 'Arumbakkam',\n",
       "       'Kuthambakkam', 'Thirumalpur', 'Mahindra World City',\n",
       "       'Oragadam Industrial Corridor', 'Ragavendra Colony',\n",
       "       'Ambattur INDUSTRIAL ESTATE', 'Mannivakkam', 'Kil Ayanambakkam'],\n",
       "      dtype=object)"
      ]
     },
     "execution_count": 19,
     "metadata": {},
     "output_type": "execute_result"
    }
   ],
   "source": [
    "df1['location'].unique()"
   ]
  },
  {
   "cell_type": "code",
   "execution_count": 20,
   "id": "3c1d3dcc",
   "metadata": {},
   "outputs": [
    {
     "data": {
      "text/plain": [
       "array(['MP Developers', 'DAC Promoters',\n",
       "       'Casagrand Builder Private Limited', 'Dugar Housing Builders',\n",
       "       'Radiance Realty Developers India Ltd', 'Traventure Homes Pvt Ltd',\n",
       "       'Urbanrise', 'Navin Housing Properties P LTD',\n",
       "       'Jones foundation private limited', 'Isha Homes',\n",
       "       'Kochar Homes Pvt Ltd', 'Pushkar Properties Pvt Ltd',\n",
       "       'Asset Tree Homes', 'Urban Tree Infrastructures', 'Olympia Group',\n",
       "       'Vijay Raja Homes Private Limited', 'Kamalam Builder Pvt Ltd',\n",
       "       'Appaswamy Real Estate', 'VNR Homes', 'PS Srijan Developers',\n",
       "       'Lifestyle Housing', 'Puravankara Limited', 'Jones Foundations',\n",
       "       'Plaza Group', 'Urbando Housing LLP', 'EK Realtors',\n",
       "       'The Nest Builder', 'Doshi Housing', 'Grandstyle constructions',\n",
       "       'vinoth builders', 'GTK Foundations', 'Baashyaam Group', 'chris',\n",
       "       'Krishna Constructions', 'AKS Housing Dedvelopment Pvt Ltd',\n",
       "       'Mayances Construction and Engineering Services',\n",
       "       'Ramaniyam Real Estate Builders', 'India Builders Limited', 'Ram',\n",
       "       'Shatapatri Estates Pvt Ltd', 'Shri Raman Developers',\n",
       "       'Sri Hari Developers', 'Radiance Realty Developers',\n",
       "       'Pacifica Companies', 'BSCPL Infrastructure Ltd', 'Khurinji Homes',\n",
       "       'Saradeuz Realty Constructions', 'VGK Builders Pvt Ltd',\n",
       "       'Amarprakash Developers Pvt Ltd', 'Hansa Estates',\n",
       "       'Prince Foundations Ltd', 'Budget Housing And Properties',\n",
       "       'SP Homes Pvt Ltd', 'Bharathi Construction',\n",
       "       'Karuppaswamy Builders', 'Merlin Group', 'Advaita Homes',\n",
       "       'Swamaan Developers', 'Poojaa Foundation',\n",
       "       'Prestige Estates Projects Ltd', 'Global Homes', 'seller',\n",
       "       'Pon Mariappan', 'HM Homes', 'INTERFACE PROPERTIES',\n",
       "       'R Venkatesan', 'viswaraj', 'Shiva', 'S Suresh Kumar',\n",
       "       'MEHTA REAL ESTATE CHENNAI LLP', 'Balamurugan', 'Alliance Group',\n",
       "       'Royal Square', 'Proparena', 'Propsource Realty Private Limited',\n",
       "       'Sandhya', 'Murali', 'Tellus Foundation', 'Jayakanthan',\n",
       "       'Individual Agent', 'Naveen', 'Shanmugam Property',\n",
       "       'Value reality', 'Swaminathan', 'smartassetsindia',\n",
       "       'Sri Vinayaga Real Estate', 'Nagaraj', 'Karthick', 'Prasanna',\n",
       "       'Vinay Asrani', 'Pragyansh', '24K Realtors', 'Kaushik associates',\n",
       "       'BricksBurg', 'Dinesh', 'AKS REALTY SERVICES', 'Kkk Landmark',\n",
       "       'SS Square Property Developers', 'Prabha Homes', 'JA Associates',\n",
       "       'Bala', 'Sarashwathi Construction', 'Selvakumar',\n",
       "       'Right Angle Properties', 'Saravan gk', 'Evrostos Properties',\n",
       "       'Balasubramani', 'Vishnu Foundation Ltd',\n",
       "       'Shree sakthivel realestate', 'Yadhav constructions real estates',\n",
       "       'SS PROPERTIES', 'Prop Mart Technologies', 'Info Rich',\n",
       "       'JD Properties', 'Mohan', 'HomeFirst', 'Elite nisha',\n",
       "       'THAMINA HOMES', 'MC Foundation', 'ARB HOMES',\n",
       "       'South Zone Realty Consulting Pvt Ltd', 'Luxclusive Homes',\n",
       "       'Vishal D', 'mohammed', 'Dee Star Properties',\n",
       "       'Chennai Gated Community', 'Balaji', 'MrPincode', 'GJ ESTATES',\n",
       "       'Venkatesh', 'DJ Properties', 'Dhivagaran', 'REALTY INDIA',\n",
       "       'MAXWORTH PROPERTIES', 'Velan Housing Properties'], dtype=object)"
      ]
     },
     "execution_count": 20,
     "metadata": {},
     "output_type": "execute_result"
    }
   ],
   "source": [
    "df1['builder'].unique()"
   ]
  },
  {
   "cell_type": "code",
   "execution_count": 21,
   "id": "773f3b30",
   "metadata": {},
   "outputs": [
    {
     "data": {
      "text/plain": [
       "Veppampattu         149\n",
       "Pammal              139\n",
       "Medavakkam          111\n",
       "Sholinganallur       99\n",
       "Perungudi            88\n",
       "                   ... \n",
       "Jeth Nagar            1\n",
       "Sevvapet              1\n",
       "Gokulapuram           1\n",
       "Iyyapa Nagar          1\n",
       "Kil Ayanambakkam      1\n",
       "Name: location, Length: 178, dtype: int64"
      ]
     },
     "execution_count": 21,
     "metadata": {},
     "output_type": "execute_result"
    }
   ],
   "source": [
    "df1['location'].value_counts()"
   ]
  },
  {
   "cell_type": "code",
   "execution_count": 22,
   "id": "da2a36f8",
   "metadata": {},
   "outputs": [
    {
     "data": {
      "text/plain": [
       "seller                               484\n",
       "MC Foundation                        232\n",
       "Appaswamy Real Estate                109\n",
       "Propsource Realty Private Limited     79\n",
       "Radiance Realty Developers            62\n",
       "                                    ... \n",
       "Prop Mart Technologies                 1\n",
       "S Suresh Kumar                         1\n",
       "Yadhav constructions real estates      1\n",
       "MAXWORTH PROPERTIES                    1\n",
       "Evrostos Properties                    1\n",
       "Name: builder, Length: 135, dtype: int64"
      ]
     },
     "execution_count": 22,
     "metadata": {},
     "output_type": "execute_result"
    }
   ],
   "source": [
    "df1['builder'].value_counts()"
   ]
  },
  {
   "cell_type": "code",
   "execution_count": 23,
   "id": "e7036c48",
   "metadata": {},
   "outputs": [
    {
     "data": {
      "text/plain": [
       "Veppampattu         149\n",
       "Pammal              139\n",
       "Medavakkam          111\n",
       "Sholinganallur       99\n",
       "Perungudi            88\n",
       "                   ... \n",
       "Jeth Nagar            1\n",
       "Sevvapet              1\n",
       "Gokulapuram           1\n",
       "Iyyapa Nagar          1\n",
       "Kil Ayanambakkam      1\n",
       "Name: location, Length: 178, dtype: int64"
      ]
     },
     "execution_count": 23,
     "metadata": {},
     "output_type": "execute_result"
    }
   ],
   "source": [
    "location_stats = df1['location'].value_counts(ascending=False)\n",
    "location_stats"
   ]
  },
  {
   "cell_type": "code",
   "execution_count": 24,
   "id": "d78093be",
   "metadata": {},
   "outputs": [
    {
     "data": {
      "text/plain": [
       "2620"
      ]
     },
     "execution_count": 24,
     "metadata": {},
     "output_type": "execute_result"
    }
   ],
   "source": [
    "location_stats.values.sum()"
   ]
  },
  {
   "cell_type": "code",
   "execution_count": 25,
   "id": "a1b1d572",
   "metadata": {},
   "outputs": [
    {
     "data": {
      "text/plain": [
       "59"
      ]
     },
     "execution_count": 25,
     "metadata": {},
     "output_type": "execute_result"
    }
   ],
   "source": [
    "len(location_stats[location_stats>10])"
   ]
  },
  {
   "cell_type": "code",
   "execution_count": 26,
   "id": "d88c9b15",
   "metadata": {},
   "outputs": [
    {
     "data": {
      "text/plain": [
       "178"
      ]
     },
     "execution_count": 26,
     "metadata": {},
     "output_type": "execute_result"
    }
   ],
   "source": [
    "len(location_stats)"
   ]
  },
  {
   "cell_type": "code",
   "execution_count": 27,
   "id": "38fa29e2",
   "metadata": {},
   "outputs": [
    {
     "data": {
      "text/plain": [
       "119"
      ]
     },
     "execution_count": 27,
     "metadata": {},
     "output_type": "execute_result"
    }
   ],
   "source": [
    "len(location_stats[location_stats<=10])"
   ]
  },
  {
   "cell_type": "code",
   "execution_count": 28,
   "id": "c0f232b4",
   "metadata": {},
   "outputs": [
    {
     "data": {
      "text/plain": [
       "Ambattur INDUSTRIAL ESTATE    10\n",
       "Thandalam                     10\n",
       "Urapakkam                     10\n",
       "Saidapet                       9\n",
       "Kilpauk                        9\n",
       "                              ..\n",
       "Jeth Nagar                     1\n",
       "Sevvapet                       1\n",
       "Gokulapuram                    1\n",
       "Iyyapa Nagar                   1\n",
       "Kil Ayanambakkam               1\n",
       "Name: location, Length: 119, dtype: int64"
      ]
     },
     "execution_count": 28,
     "metadata": {},
     "output_type": "execute_result"
    }
   ],
   "source": [
    "# Storing locations with less than 10 count\n",
    "location_stats_less_than_10 = location_stats[location_stats<=10]\n",
    "location_stats_less_than_10"
   ]
  },
  {
   "cell_type": "code",
   "execution_count": 29,
   "id": "02e99e2e",
   "metadata": {},
   "outputs": [
    {
     "data": {
      "text/plain": [
       "60"
      ]
     },
     "execution_count": 29,
     "metadata": {},
     "output_type": "execute_result"
    }
   ],
   "source": [
    "# Grouping all less than 10 locations as other\n",
    "df1.location = df1.location.apply(lambda x: 'other' if x in location_stats_less_than_10 else x)\n",
    "len(df1.location.unique())"
   ]
  },
  {
   "cell_type": "code",
   "execution_count": 30,
   "id": "ecf2db84",
   "metadata": {},
   "outputs": [
    {
     "data": {
      "text/html": [
       "<div>\n",
       "<style scoped>\n",
       "    .dataframe tbody tr th:only-of-type {\n",
       "        vertical-align: middle;\n",
       "    }\n",
       "\n",
       "    .dataframe tbody tr th {\n",
       "        vertical-align: top;\n",
       "    }\n",
       "\n",
       "    .dataframe thead th {\n",
       "        text-align: right;\n",
       "    }\n",
       "</style>\n",
       "<table border=\"1\" class=\"dataframe\">\n",
       "  <thead>\n",
       "    <tr style=\"text-align: right;\">\n",
       "      <th></th>\n",
       "      <th>price</th>\n",
       "      <th>area</th>\n",
       "      <th>status</th>\n",
       "      <th>bhk</th>\n",
       "      <th>location</th>\n",
       "      <th>builder</th>\n",
       "      <th>bath</th>\n",
       "      <th>year</th>\n",
       "    </tr>\n",
       "  </thead>\n",
       "  <tbody>\n",
       "    <tr>\n",
       "      <th>0</th>\n",
       "      <td>37.49</td>\n",
       "      <td>872</td>\n",
       "      <td>Ready to move</td>\n",
       "      <td>2</td>\n",
       "      <td>Sembakkam</td>\n",
       "      <td>MP Developers</td>\n",
       "      <td>1.0</td>\n",
       "      <td>1.0</td>\n",
       "    </tr>\n",
       "    <tr>\n",
       "      <th>1</th>\n",
       "      <td>93.54</td>\n",
       "      <td>1346</td>\n",
       "      <td>Under Construction</td>\n",
       "      <td>3</td>\n",
       "      <td>Selaiyur</td>\n",
       "      <td>DAC Promoters</td>\n",
       "      <td>2.0</td>\n",
       "      <td>0.0</td>\n",
       "    </tr>\n",
       "    <tr>\n",
       "      <th>2</th>\n",
       "      <td>151.00</td>\n",
       "      <td>2225</td>\n",
       "      <td>Under Construction</td>\n",
       "      <td>3</td>\n",
       "      <td>Mogappair</td>\n",
       "      <td>Casagrand Builder Private Limited</td>\n",
       "      <td>2.0</td>\n",
       "      <td>0.0</td>\n",
       "    </tr>\n",
       "    <tr>\n",
       "      <th>3</th>\n",
       "      <td>49.00</td>\n",
       "      <td>1028</td>\n",
       "      <td>Ready to move</td>\n",
       "      <td>2</td>\n",
       "      <td>Ambattur</td>\n",
       "      <td>Dugar Housing Builders</td>\n",
       "      <td>2.0</td>\n",
       "      <td>3.0</td>\n",
       "    </tr>\n",
       "    <tr>\n",
       "      <th>4</th>\n",
       "      <td>42.28</td>\n",
       "      <td>588</td>\n",
       "      <td>Under Construction</td>\n",
       "      <td>2</td>\n",
       "      <td>Pallavaram</td>\n",
       "      <td>Radiance Realty Developers India Ltd</td>\n",
       "      <td>1.0</td>\n",
       "      <td>0.0</td>\n",
       "    </tr>\n",
       "    <tr>\n",
       "      <th>5</th>\n",
       "      <td>188.00</td>\n",
       "      <td>2221</td>\n",
       "      <td>Under Construction</td>\n",
       "      <td>3</td>\n",
       "      <td>other</td>\n",
       "      <td>Traventure Homes Pvt Ltd</td>\n",
       "      <td>3.0</td>\n",
       "      <td>0.0</td>\n",
       "    </tr>\n",
       "    <tr>\n",
       "      <th>6</th>\n",
       "      <td>38.00</td>\n",
       "      <td>885</td>\n",
       "      <td>Under Construction</td>\n",
       "      <td>3</td>\n",
       "      <td>Thirumazhisai</td>\n",
       "      <td>Urbanrise</td>\n",
       "      <td>2.0</td>\n",
       "      <td>0.0</td>\n",
       "    </tr>\n",
       "    <tr>\n",
       "      <th>7</th>\n",
       "      <td>72.99</td>\n",
       "      <td>936</td>\n",
       "      <td>Ready to move</td>\n",
       "      <td>3</td>\n",
       "      <td>other</td>\n",
       "      <td>Navin Housing Properties P LTD</td>\n",
       "      <td>2.0</td>\n",
       "      <td>6.0</td>\n",
       "    </tr>\n",
       "    <tr>\n",
       "      <th>8</th>\n",
       "      <td>125.00</td>\n",
       "      <td>2275</td>\n",
       "      <td>Ready to move</td>\n",
       "      <td>4</td>\n",
       "      <td>other</td>\n",
       "      <td>Jones foundation private limited</td>\n",
       "      <td>3.0</td>\n",
       "      <td>1.0</td>\n",
       "    </tr>\n",
       "    <tr>\n",
       "      <th>9</th>\n",
       "      <td>24.56</td>\n",
       "      <td>622</td>\n",
       "      <td>Under Construction</td>\n",
       "      <td>2</td>\n",
       "      <td>Perungalathur</td>\n",
       "      <td>Isha Homes</td>\n",
       "      <td>1.0</td>\n",
       "      <td>0.0</td>\n",
       "    </tr>\n",
       "  </tbody>\n",
       "</table>\n",
       "</div>"
      ],
      "text/plain": [
       "    price  area              status  bhk       location  \\\n",
       "0   37.49   872       Ready to move    2      Sembakkam   \n",
       "1   93.54  1346  Under Construction    3       Selaiyur   \n",
       "2  151.00  2225  Under Construction    3      Mogappair   \n",
       "3   49.00  1028       Ready to move    2       Ambattur   \n",
       "4   42.28   588  Under Construction    2     Pallavaram   \n",
       "5  188.00  2221  Under Construction    3          other   \n",
       "6   38.00   885  Under Construction    3  Thirumazhisai   \n",
       "7   72.99   936       Ready to move    3          other   \n",
       "8  125.00  2275       Ready to move    4          other   \n",
       "9   24.56   622  Under Construction    2  Perungalathur   \n",
       "\n",
       "                                builder  bath  year  \n",
       "0                         MP Developers   1.0   1.0  \n",
       "1                         DAC Promoters   2.0   0.0  \n",
       "2     Casagrand Builder Private Limited   2.0   0.0  \n",
       "3                Dugar Housing Builders   2.0   3.0  \n",
       "4  Radiance Realty Developers India Ltd   1.0   0.0  \n",
       "5              Traventure Homes Pvt Ltd   3.0   0.0  \n",
       "6                             Urbanrise   2.0   0.0  \n",
       "7        Navin Housing Properties P LTD   2.0   6.0  \n",
       "8      Jones foundation private limited   3.0   1.0  \n",
       "9                            Isha Homes   1.0   0.0  "
      ]
     },
     "execution_count": 30,
     "metadata": {},
     "output_type": "execute_result"
    }
   ],
   "source": [
    "df1.head(10)"
   ]
  },
  {
   "cell_type": "code",
   "execution_count": 31,
   "id": "a87ffa91",
   "metadata": {},
   "outputs": [
    {
     "data": {
      "text/plain": [
       "seller                               484\n",
       "MC Foundation                        232\n",
       "Appaswamy Real Estate                109\n",
       "Propsource Realty Private Limited     79\n",
       "Radiance Realty Developers            62\n",
       "                                    ... \n",
       "Prop Mart Technologies                 1\n",
       "S Suresh Kumar                         1\n",
       "Yadhav constructions real estates      1\n",
       "MAXWORTH PROPERTIES                    1\n",
       "Evrostos Properties                    1\n",
       "Name: builder, Length: 135, dtype: int64"
      ]
     },
     "execution_count": 31,
     "metadata": {},
     "output_type": "execute_result"
    }
   ],
   "source": [
    "builder_stats = df1['builder'].value_counts(ascending=False)\n",
    "builder_stats"
   ]
  },
  {
   "cell_type": "code",
   "execution_count": 32,
   "id": "af766d4e",
   "metadata": {},
   "outputs": [
    {
     "data": {
      "text/plain": [
       "2620"
      ]
     },
     "execution_count": 32,
     "metadata": {},
     "output_type": "execute_result"
    }
   ],
   "source": [
    "builder_stats.values.sum()"
   ]
  },
  {
   "cell_type": "code",
   "execution_count": 33,
   "id": "0a5ff123",
   "metadata": {},
   "outputs": [
    {
     "data": {
      "text/plain": [
       "56"
      ]
     },
     "execution_count": 33,
     "metadata": {},
     "output_type": "execute_result"
    }
   ],
   "source": [
    "len(builder_stats[builder_stats>10])"
   ]
  },
  {
   "cell_type": "code",
   "execution_count": 34,
   "id": "3b8619d5",
   "metadata": {},
   "outputs": [
    {
     "data": {
      "text/plain": [
       "135"
      ]
     },
     "execution_count": 34,
     "metadata": {},
     "output_type": "execute_result"
    }
   ],
   "source": [
    "len(builder_stats)"
   ]
  },
  {
   "cell_type": "code",
   "execution_count": 35,
   "id": "25da52f1",
   "metadata": {},
   "outputs": [
    {
     "data": {
      "text/plain": [
       "79"
      ]
     },
     "execution_count": 35,
     "metadata": {},
     "output_type": "execute_result"
    }
   ],
   "source": [
    "len(builder_stats[builder_stats<=10])"
   ]
  },
  {
   "cell_type": "code",
   "execution_count": 36,
   "id": "6e33b3d8",
   "metadata": {},
   "outputs": [
    {
     "data": {
      "text/plain": [
       "SP Homes Pvt Ltd                     10\n",
       "Prasanna                             10\n",
       "EK Realtors                          10\n",
       "Baashyaam Group                       9\n",
       "GJ ESTATES                            9\n",
       "                                     ..\n",
       "Prop Mart Technologies                1\n",
       "S Suresh Kumar                        1\n",
       "Yadhav constructions real estates     1\n",
       "MAXWORTH PROPERTIES                   1\n",
       "Evrostos Properties                   1\n",
       "Name: builder, Length: 79, dtype: int64"
      ]
     },
     "execution_count": 36,
     "metadata": {},
     "output_type": "execute_result"
    }
   ],
   "source": [
    "# Storing builders with less than 10 count\n",
    "builder_stats_less_than_10 = builder_stats[builder_stats<=10]\n",
    "builder_stats_less_than_10"
   ]
  },
  {
   "cell_type": "code",
   "execution_count": 37,
   "id": "aec08c79",
   "metadata": {},
   "outputs": [
    {
     "data": {
      "text/plain": [
       "57"
      ]
     },
     "execution_count": 37,
     "metadata": {},
     "output_type": "execute_result"
    }
   ],
   "source": [
    "# Grouping all less than 10 builders as other\n",
    "df1.builder = df1.builder.apply(lambda x: 'other' if x in builder_stats_less_than_10 else x)\n",
    "len(df1.builder.unique())"
   ]
  },
  {
   "cell_type": "code",
   "execution_count": 38,
   "id": "f4db78fd",
   "metadata": {},
   "outputs": [
    {
     "data": {
      "text/html": [
       "<div>\n",
       "<style scoped>\n",
       "    .dataframe tbody tr th:only-of-type {\n",
       "        vertical-align: middle;\n",
       "    }\n",
       "\n",
       "    .dataframe tbody tr th {\n",
       "        vertical-align: top;\n",
       "    }\n",
       "\n",
       "    .dataframe thead th {\n",
       "        text-align: right;\n",
       "    }\n",
       "</style>\n",
       "<table border=\"1\" class=\"dataframe\">\n",
       "  <thead>\n",
       "    <tr style=\"text-align: right;\">\n",
       "      <th></th>\n",
       "      <th>price</th>\n",
       "      <th>area</th>\n",
       "      <th>status</th>\n",
       "      <th>bhk</th>\n",
       "      <th>location</th>\n",
       "      <th>builder</th>\n",
       "      <th>bath</th>\n",
       "      <th>year</th>\n",
       "    </tr>\n",
       "  </thead>\n",
       "  <tbody>\n",
       "    <tr>\n",
       "      <th>4</th>\n",
       "      <td>42.28</td>\n",
       "      <td>588</td>\n",
       "      <td>Under Construction</td>\n",
       "      <td>2</td>\n",
       "      <td>Pallavaram</td>\n",
       "      <td>Radiance Realty Developers India Ltd</td>\n",
       "      <td>1.0</td>\n",
       "      <td>0.0</td>\n",
       "    </tr>\n",
       "    <tr>\n",
       "      <th>6</th>\n",
       "      <td>38.00</td>\n",
       "      <td>885</td>\n",
       "      <td>Under Construction</td>\n",
       "      <td>3</td>\n",
       "      <td>Thirumazhisai</td>\n",
       "      <td>other</td>\n",
       "      <td>2.0</td>\n",
       "      <td>0.0</td>\n",
       "    </tr>\n",
       "    <tr>\n",
       "      <th>43</th>\n",
       "      <td>42.28</td>\n",
       "      <td>588</td>\n",
       "      <td>Under Construction</td>\n",
       "      <td>2</td>\n",
       "      <td>Pallavaram</td>\n",
       "      <td>Radiance Realty Developers</td>\n",
       "      <td>1.0</td>\n",
       "      <td>0.0</td>\n",
       "    </tr>\n",
       "    <tr>\n",
       "      <th>54</th>\n",
       "      <td>29.62</td>\n",
       "      <td>528</td>\n",
       "      <td>Ready to move</td>\n",
       "      <td>2</td>\n",
       "      <td>Pammal</td>\n",
       "      <td>Bharathi Construction</td>\n",
       "      <td>1.0</td>\n",
       "      <td>1.0</td>\n",
       "    </tr>\n",
       "    <tr>\n",
       "      <th>206</th>\n",
       "      <td>35.34</td>\n",
       "      <td>594</td>\n",
       "      <td>Ready to move</td>\n",
       "      <td>2</td>\n",
       "      <td>Vengaivasal</td>\n",
       "      <td>other</td>\n",
       "      <td>1.0</td>\n",
       "      <td>2.0</td>\n",
       "    </tr>\n",
       "  </tbody>\n",
       "</table>\n",
       "</div>"
      ],
      "text/plain": [
       "     price  area              status  bhk       location  \\\n",
       "4    42.28   588  Under Construction    2     Pallavaram   \n",
       "6    38.00   885  Under Construction    3  Thirumazhisai   \n",
       "43   42.28   588  Under Construction    2     Pallavaram   \n",
       "54   29.62   528       Ready to move    2         Pammal   \n",
       "206  35.34   594       Ready to move    2    Vengaivasal   \n",
       "\n",
       "                                  builder  bath  year  \n",
       "4    Radiance Realty Developers India Ltd   1.0   0.0  \n",
       "6                                   other   2.0   0.0  \n",
       "43             Radiance Realty Developers   1.0   0.0  \n",
       "54                  Bharathi Construction   1.0   1.0  \n",
       "206                                 other   1.0   2.0  "
      ]
     },
     "execution_count": 38,
     "metadata": {},
     "output_type": "execute_result"
    }
   ],
   "source": [
    "df1[df1.area/df1.bhk<300].head()"
   ]
  },
  {
   "cell_type": "code",
   "execution_count": 39,
   "id": "a51a4a3d",
   "metadata": {},
   "outputs": [
    {
     "data": {
      "text/plain": [
       "(2593, 8)"
      ]
     },
     "execution_count": 39,
     "metadata": {},
     "output_type": "execute_result"
    }
   ],
   "source": [
    "# Removing Outliers\n",
    "df2 = df1[~(df1.area/df1.bhk<300)]\n",
    "df2.shape"
   ]
  },
  {
   "cell_type": "code",
   "execution_count": 40,
   "id": "2ba31b34",
   "metadata": {},
   "outputs": [
    {
     "data": {
      "text/html": [
       "<div>\n",
       "<style scoped>\n",
       "    .dataframe tbody tr th:only-of-type {\n",
       "        vertical-align: middle;\n",
       "    }\n",
       "\n",
       "    .dataframe tbody tr th {\n",
       "        vertical-align: top;\n",
       "    }\n",
       "\n",
       "    .dataframe thead th {\n",
       "        text-align: right;\n",
       "    }\n",
       "</style>\n",
       "<table border=\"1\" class=\"dataframe\">\n",
       "  <thead>\n",
       "    <tr style=\"text-align: right;\">\n",
       "      <th></th>\n",
       "      <th>price</th>\n",
       "      <th>area</th>\n",
       "      <th>status</th>\n",
       "      <th>bhk</th>\n",
       "      <th>location</th>\n",
       "      <th>builder</th>\n",
       "      <th>bath</th>\n",
       "      <th>year</th>\n",
       "      <th>price_per_sqft</th>\n",
       "    </tr>\n",
       "  </thead>\n",
       "  <tbody>\n",
       "    <tr>\n",
       "      <th>0</th>\n",
       "      <td>37.49</td>\n",
       "      <td>872</td>\n",
       "      <td>Ready to move</td>\n",
       "      <td>2</td>\n",
       "      <td>Sembakkam</td>\n",
       "      <td>MP Developers</td>\n",
       "      <td>1.0</td>\n",
       "      <td>1.0</td>\n",
       "      <td>4299.311927</td>\n",
       "    </tr>\n",
       "    <tr>\n",
       "      <th>1</th>\n",
       "      <td>93.54</td>\n",
       "      <td>1346</td>\n",
       "      <td>Under Construction</td>\n",
       "      <td>3</td>\n",
       "      <td>Selaiyur</td>\n",
       "      <td>DAC Promoters</td>\n",
       "      <td>2.0</td>\n",
       "      <td>0.0</td>\n",
       "      <td>6949.479941</td>\n",
       "    </tr>\n",
       "    <tr>\n",
       "      <th>2</th>\n",
       "      <td>151.00</td>\n",
       "      <td>2225</td>\n",
       "      <td>Under Construction</td>\n",
       "      <td>3</td>\n",
       "      <td>Mogappair</td>\n",
       "      <td>Casagrand Builder Private Limited</td>\n",
       "      <td>2.0</td>\n",
       "      <td>0.0</td>\n",
       "      <td>6786.516854</td>\n",
       "    </tr>\n",
       "    <tr>\n",
       "      <th>3</th>\n",
       "      <td>49.00</td>\n",
       "      <td>1028</td>\n",
       "      <td>Ready to move</td>\n",
       "      <td>2</td>\n",
       "      <td>Ambattur</td>\n",
       "      <td>other</td>\n",
       "      <td>2.0</td>\n",
       "      <td>3.0</td>\n",
       "      <td>4766.536965</td>\n",
       "    </tr>\n",
       "    <tr>\n",
       "      <th>5</th>\n",
       "      <td>188.00</td>\n",
       "      <td>2221</td>\n",
       "      <td>Under Construction</td>\n",
       "      <td>3</td>\n",
       "      <td>other</td>\n",
       "      <td>other</td>\n",
       "      <td>3.0</td>\n",
       "      <td>0.0</td>\n",
       "      <td>8464.655561</td>\n",
       "    </tr>\n",
       "  </tbody>\n",
       "</table>\n",
       "</div>"
      ],
      "text/plain": [
       "    price  area              status  bhk   location  \\\n",
       "0   37.49   872       Ready to move    2  Sembakkam   \n",
       "1   93.54  1346  Under Construction    3   Selaiyur   \n",
       "2  151.00  2225  Under Construction    3  Mogappair   \n",
       "3   49.00  1028       Ready to move    2   Ambattur   \n",
       "5  188.00  2221  Under Construction    3      other   \n",
       "\n",
       "                             builder  bath  year  price_per_sqft  \n",
       "0                      MP Developers   1.0   1.0     4299.311927  \n",
       "1                      DAC Promoters   2.0   0.0     6949.479941  \n",
       "2  Casagrand Builder Private Limited   2.0   0.0     6786.516854  \n",
       "3                              other   2.0   3.0     4766.536965  \n",
       "5                              other   3.0   0.0     8464.655561  "
      ]
     },
     "execution_count": 40,
     "metadata": {},
     "output_type": "execute_result"
    }
   ],
   "source": [
    "df2['price_per_sqft'] = df2['price']*100000/df2['area']\n",
    "df2.head()"
   ]
  },
  {
   "cell_type": "code",
   "execution_count": 41,
   "id": "801c0c99",
   "metadata": {},
   "outputs": [
    {
     "data": {
      "text/plain": [
       "(2011, 9)"
      ]
     },
     "execution_count": 41,
     "metadata": {},
     "output_type": "execute_result"
    }
   ],
   "source": [
    "# Removing Outliers\n",
    "def remove_pps_outliers(df):\n",
    "    df_out = pd.DataFrame()\n",
    "    for key, subdf in df.groupby('location'):\n",
    "        m = np.mean(subdf.price_per_sqft)\n",
    "        st = np.std(subdf.price_per_sqft)\n",
    "        reduced_df = subdf[(subdf.price_per_sqft>(m-st)) & (subdf.price_per_sqft<=(m+st))]\n",
    "        df_out = pd.concat([df_out,reduced_df],ignore_index=True)\n",
    "    return df_out\n",
    "df3 = remove_pps_outliers(df2)\n",
    "df3.shape"
   ]
  },
  {
   "cell_type": "code",
   "execution_count": 42,
   "id": "eaf7b449",
   "metadata": {},
   "outputs": [],
   "source": [
    "# Plotting scatter plot Area Vs. Price\n",
    "def plot_scatter_chart(df,location):\n",
    "    bhk2 = df[(df.location==location) & (df.bhk==2)]\n",
    "    bhk3 = df[(df.location==location) & (df.bhk==3)]\n",
    "    matplotlib.rcParams['figure.figsize'] = (15,10)\n",
    "    plt.scatter(bhk2.area,bhk2.price,color='blue',label='2 BHK', s=50)\n",
    "    plt.scatter(bhk3.area,bhk3.price,marker='+', color='green',label='3 BHK', s=50)\n",
    "    plt.xlabel(\"Total Square Feet Area\")\n",
    "    plt.ylabel(\"Price (Lakh Indian Rupees)\")\n",
    "    plt.title(location)\n",
    "    plt.legend()"
   ]
  },
  {
   "cell_type": "code",
   "execution_count": 43,
   "id": "f454eb99",
   "metadata": {},
   "outputs": [
    {
     "data": {
      "image/png": "[encoded data removed]",
      "text/plain": [
       "<Figure size 1080x720 with 1 Axes>"
      ]
     },
     "metadata": {
      "needs_background": "light"
     },
     "output_type": "display_data"
    }
   ],
   "source": [
    "plot_scatter_chart(df3,\"Veppampattu\")"
   ]
  },
  {
   "cell_type": "code",
   "execution_count": 44,
   "id": "f17fe865",
   "metadata": {},
   "outputs": [
    {
     "data": {
      "image/png": "[encoded data removed]",
      "text/plain": [
       "<Figure size 1080x720 with 1 Axes>"
      ]
     },
     "metadata": {
      "needs_background": "light"
     },
     "output_type": "display_data"
    }
   ],
   "source": [
    "plot_scatter_chart(df3,\"Pammal\")"
   ]
  },
  {
   "cell_type": "code",
   "execution_count": 45,
   "id": "485981af",
   "metadata": {},
   "outputs": [
    {
     "data": {
      "text/plain": [
       "(1592, 9)"
      ]
     },
     "execution_count": 45,
     "metadata": {},
     "output_type": "execute_result"
    }
   ],
   "source": [
    "# Removing Outliers\n",
    "def remove_bhk_outliers(df):\n",
    "    exclude_indices = np.array([])\n",
    "    for location, location_df in df.groupby('location'):\n",
    "        bhk_stats = {}\n",
    "        for bhk, bhk_df in location_df.groupby('bhk'):\n",
    "            bhk_stats[bhk] = {\n",
    "                'mean': np.mean(bhk_df.price_per_sqft),\n",
    "                'std': np.std(bhk_df.price_per_sqft),\n",
    "                'count': bhk_df.shape[0]\n",
    "            }\n",
    "        for bhk, bhk_df in location_df.groupby('bhk'):\n",
    "            stats = bhk_stats.get(bhk-1)\n",
    "            if stats and stats['count']>5:\n",
    "                exclude_indices = np.append(exclude_indices, bhk_df[bhk_df.price_per_sqft<(stats['mean'])].index.values)\n",
    "    return df.drop(exclude_indices,axis='index')\n",
    "df4 = remove_bhk_outliers(df3)\n",
    "df4.shape"
   ]
  },
  {
   "cell_type": "code",
   "execution_count": 46,
   "id": "2ec1432f",
   "metadata": {},
   "outputs": [
    {
     "data": {
      "image/png": "[encoded data removed]",
      "text/plain": [
       "<Figure size 1080x720 with 1 Axes>"
      ]
     },
     "metadata": {
      "needs_background": "light"
     },
     "output_type": "display_data"
    }
   ],
   "source": [
    "plot_scatter_chart(df4,\"Veppampattu\")"
   ]
  },
  {
   "cell_type": "code",
   "execution_count": 47,
   "id": "17c4cbdc",
   "metadata": {},
   "outputs": [
    {
     "data": {
      "image/png": "[encoded data removed]",
      "text/plain": [
       "<Figure size 1080x720 with 1 Axes>"
      ]
     },
     "metadata": {
      "needs_background": "light"
     },
     "output_type": "display_data"
    }
   ],
   "source": [
    "plot_scatter_chart(df4,\"Pammal\")"
   ]
  },
  {
   "cell_type": "code",
   "execution_count": 48,
   "id": "52343f28",
   "metadata": {},
   "outputs": [
    {
     "data": {
      "text/plain": [
       "Text(0, 0.5, 'Count')"
      ]
     },
     "execution_count": 48,
     "metadata": {},
     "output_type": "execute_result"
    },
    {
     "data": {
      "image/png": "[encoded data removed]",
      "text/plain": [
       "<Figure size 1440x720 with 1 Axes>"
      ]
     },
     "metadata": {
      "needs_background": "light"
     },
     "output_type": "display_data"
    }
   ],
   "source": [
    "# Plooting price sq feet count\n",
    "matplotlib.rcParams[\"figure.figsize\"] = (20,10)\n",
    "plt.hist(df4.price_per_sqft,rwidth=0.8)\n",
    "plt.xlabel(\"Price Per Square Feet\")\n",
    "plt.ylabel(\"Count\")"
   ]
  },
  {
   "cell_type": "code",
   "execution_count": 49,
   "id": "a26a95a0",
   "metadata": {},
   "outputs": [
    {
     "data": {
      "text/plain": [
       "Text(0, 0.5, 'Count')"
      ]
     },
     "execution_count": 49,
     "metadata": {},
     "output_type": "execute_result"
    },
    {
     "data": {
      "image/png": "[encoded data removed]",
      "text/plain": [
       "<Figure size 1440x720 with 1 Axes>"
      ]
     },
     "metadata": {
      "needs_background": "light"
     },
     "output_type": "display_data"
    }
   ],
   "source": [
    "# Plotting bathroom count\n",
    "plt.hist(df4.bath,rwidth=0.8)\n",
    "plt.xlabel(\"Number of bathrooms\")\n",
    "plt.ylabel(\"Count\")"
   ]
  },
  {
   "cell_type": "code",
   "execution_count": 50,
   "id": "263c1b64",
   "metadata": {},
   "outputs": [
    {
     "data": {
      "text/html": [
       "<div>\n",
       "<style scoped>\n",
       "    .dataframe tbody tr th:only-of-type {\n",
       "        vertical-align: middle;\n",
       "    }\n",
       "\n",
       "    .dataframe tbody tr th {\n",
       "        vertical-align: top;\n",
       "    }\n",
       "\n",
       "    .dataframe thead th {\n",
       "        text-align: right;\n",
       "    }\n",
       "</style>\n",
       "<table border=\"1\" class=\"dataframe\">\n",
       "  <thead>\n",
       "    <tr style=\"text-align: right;\">\n",
       "      <th></th>\n",
       "      <th>price</th>\n",
       "      <th>area</th>\n",
       "      <th>status</th>\n",
       "      <th>bhk</th>\n",
       "      <th>location</th>\n",
       "      <th>builder</th>\n",
       "      <th>bath</th>\n",
       "      <th>year</th>\n",
       "      <th>price_per_sqft</th>\n",
       "    </tr>\n",
       "  </thead>\n",
       "  <tbody>\n",
       "    <tr>\n",
       "      <th>0</th>\n",
       "      <td>261.0</td>\n",
       "      <td>1548</td>\n",
       "      <td>Ready to move</td>\n",
       "      <td>3</td>\n",
       "      <td>Adyar</td>\n",
       "      <td>other</td>\n",
       "      <td>2.0</td>\n",
       "      <td>1.0</td>\n",
       "      <td>16860.465116</td>\n",
       "    </tr>\n",
       "    <tr>\n",
       "      <th>1</th>\n",
       "      <td>278.0</td>\n",
       "      <td>1652</td>\n",
       "      <td>Ready to move</td>\n",
       "      <td>3</td>\n",
       "      <td>Adyar</td>\n",
       "      <td>other</td>\n",
       "      <td>2.0</td>\n",
       "      <td>1.0</td>\n",
       "      <td>16828.087167</td>\n",
       "    </tr>\n",
       "    <tr>\n",
       "      <th>2</th>\n",
       "      <td>274.0</td>\n",
       "      <td>1627</td>\n",
       "      <td>Ready to move</td>\n",
       "      <td>3</td>\n",
       "      <td>Adyar</td>\n",
       "      <td>other</td>\n",
       "      <td>2.0</td>\n",
       "      <td>1.0</td>\n",
       "      <td>16840.811309</td>\n",
       "    </tr>\n",
       "    <tr>\n",
       "      <th>3</th>\n",
       "      <td>210.0</td>\n",
       "      <td>1381</td>\n",
       "      <td>Under Construction</td>\n",
       "      <td>3</td>\n",
       "      <td>Adyar</td>\n",
       "      <td>seller</td>\n",
       "      <td>3.0</td>\n",
       "      <td>0.0</td>\n",
       "      <td>15206.372194</td>\n",
       "    </tr>\n",
       "    <tr>\n",
       "      <th>6</th>\n",
       "      <td>230.0</td>\n",
       "      <td>1755</td>\n",
       "      <td>Under Construction</td>\n",
       "      <td>3</td>\n",
       "      <td>Adyar</td>\n",
       "      <td>HomeFirst</td>\n",
       "      <td>3.0</td>\n",
       "      <td>0.0</td>\n",
       "      <td>13105.413105</td>\n",
       "    </tr>\n",
       "  </tbody>\n",
       "</table>\n",
       "</div>"
      ],
      "text/plain": [
       "   price  area              status  bhk location    builder  bath  year  \\\n",
       "0  261.0  1548       Ready to move    3    Adyar      other   2.0   1.0   \n",
       "1  278.0  1652       Ready to move    3    Adyar      other   2.0   1.0   \n",
       "2  274.0  1627       Ready to move    3    Adyar      other   2.0   1.0   \n",
       "3  210.0  1381  Under Construction    3    Adyar     seller   3.0   0.0   \n",
       "6  230.0  1755  Under Construction    3    Adyar  HomeFirst   3.0   0.0   \n",
       "\n",
       "   price_per_sqft  \n",
       "0    16860.465116  \n",
       "1    16828.087167  \n",
       "2    16840.811309  \n",
       "3    15206.372194  \n",
       "6    13105.413105  "
      ]
     },
     "execution_count": 50,
     "metadata": {},
     "output_type": "execute_result"
    }
   ],
   "source": [
    "df4.head()"
   ]
  },
  {
   "cell_type": "code",
   "execution_count": 51,
   "id": "f741801b",
   "metadata": {},
   "outputs": [
    {
     "data": {
      "text/html": [
       "<div>\n",
       "<style scoped>\n",
       "    .dataframe tbody tr th:only-of-type {\n",
       "        vertical-align: middle;\n",
       "    }\n",
       "\n",
       "    .dataframe tbody tr th {\n",
       "        vertical-align: top;\n",
       "    }\n",
       "\n",
       "    .dataframe thead th {\n",
       "        text-align: right;\n",
       "    }\n",
       "</style>\n",
       "<table border=\"1\" class=\"dataframe\">\n",
       "  <thead>\n",
       "    <tr style=\"text-align: right;\">\n",
       "      <th></th>\n",
       "      <th>price</th>\n",
       "      <th>area</th>\n",
       "      <th>status</th>\n",
       "      <th>bhk</th>\n",
       "      <th>location</th>\n",
       "      <th>builder</th>\n",
       "      <th>bath</th>\n",
       "      <th>year</th>\n",
       "    </tr>\n",
       "  </thead>\n",
       "  <tbody>\n",
       "    <tr>\n",
       "      <th>0</th>\n",
       "      <td>261.0</td>\n",
       "      <td>1548</td>\n",
       "      <td>Ready to move</td>\n",
       "      <td>3</td>\n",
       "      <td>Adyar</td>\n",
       "      <td>other</td>\n",
       "      <td>2.0</td>\n",
       "      <td>1.0</td>\n",
       "    </tr>\n",
       "    <tr>\n",
       "      <th>1</th>\n",
       "      <td>278.0</td>\n",
       "      <td>1652</td>\n",
       "      <td>Ready to move</td>\n",
       "      <td>3</td>\n",
       "      <td>Adyar</td>\n",
       "      <td>other</td>\n",
       "      <td>2.0</td>\n",
       "      <td>1.0</td>\n",
       "    </tr>\n",
       "    <tr>\n",
       "      <th>2</th>\n",
       "      <td>274.0</td>\n",
       "      <td>1627</td>\n",
       "      <td>Ready to move</td>\n",
       "      <td>3</td>\n",
       "      <td>Adyar</td>\n",
       "      <td>other</td>\n",
       "      <td>2.0</td>\n",
       "      <td>1.0</td>\n",
       "    </tr>\n",
       "    <tr>\n",
       "      <th>3</th>\n",
       "      <td>210.0</td>\n",
       "      <td>1381</td>\n",
       "      <td>Under Construction</td>\n",
       "      <td>3</td>\n",
       "      <td>Adyar</td>\n",
       "      <td>seller</td>\n",
       "      <td>3.0</td>\n",
       "      <td>0.0</td>\n",
       "    </tr>\n",
       "    <tr>\n",
       "      <th>6</th>\n",
       "      <td>230.0</td>\n",
       "      <td>1755</td>\n",
       "      <td>Under Construction</td>\n",
       "      <td>3</td>\n",
       "      <td>Adyar</td>\n",
       "      <td>HomeFirst</td>\n",
       "      <td>3.0</td>\n",
       "      <td>0.0</td>\n",
       "    </tr>\n",
       "  </tbody>\n",
       "</table>\n",
       "</div>"
      ],
      "text/plain": [
       "   price  area              status  bhk location    builder  bath  year\n",
       "0  261.0  1548       Ready to move    3    Adyar      other   2.0   1.0\n",
       "1  278.0  1652       Ready to move    3    Adyar      other   2.0   1.0\n",
       "2  274.0  1627       Ready to move    3    Adyar      other   2.0   1.0\n",
       "3  210.0  1381  Under Construction    3    Adyar     seller   3.0   0.0\n",
       "6  230.0  1755  Under Construction    3    Adyar  HomeFirst   3.0   0.0"
      ]
     },
     "execution_count": 51,
     "metadata": {},
     "output_type": "execute_result"
    }
   ],
   "source": [
    "df5 = df4.drop(['price_per_sqft'],axis='columns')\n",
    "df5.head()"
   ]
  },
  {
   "cell_type": "code",
   "execution_count": 52,
   "id": "9059a964",
   "metadata": {},
   "outputs": [],
   "source": [
    "# Changing text to binary data\n",
    "dummies1 = pd.get_dummies(df5.location)\n",
    "dummies2 = pd.get_dummies(df5.builder)"
   ]
  },
  {
   "cell_type": "code",
   "execution_count": 53,
   "id": "1e3b75f0",
   "metadata": {},
   "outputs": [],
   "source": [
    "df5.drop(['status'],axis=1,inplace=True)"
   ]
  },
  {
   "cell_type": "code",
   "execution_count": 54,
   "id": "592463ca",
   "metadata": {},
   "outputs": [],
   "source": [
    "# Adding to the main dataframe\n",
    "df5 = pd.concat(((df5,dummies1,dummies2)),axis=1)"
   ]
  },
  {
   "cell_type": "code",
   "execution_count": 55,
   "id": "5453ca50",
   "metadata": {},
   "outputs": [
    {
     "data": {
      "text/html": [
       "<div>\n",
       "<style scoped>\n",
       "    .dataframe tbody tr th:only-of-type {\n",
       "        vertical-align: middle;\n",
       "    }\n",
       "\n",
       "    .dataframe tbody tr th {\n",
       "        vertical-align: top;\n",
       "    }\n",
       "\n",
       "    .dataframe thead th {\n",
       "        text-align: right;\n",
       "    }\n",
       "</style>\n",
       "<table border=\"1\" class=\"dataframe\">\n",
       "  <thead>\n",
       "    <tr style=\"text-align: right;\">\n",
       "      <th></th>\n",
       "      <th>price</th>\n",
       "      <th>area</th>\n",
       "      <th>bhk</th>\n",
       "      <th>location</th>\n",
       "      <th>builder</th>\n",
       "      <th>bath</th>\n",
       "      <th>year</th>\n",
       "      <th>Adyar</th>\n",
       "      <th>Alwarpet</th>\n",
       "      <th>Ambattur</th>\n",
       "      <th>...</th>\n",
       "      <th>The Nest Builder</th>\n",
       "      <th>Urban Tree Infrastructures</th>\n",
       "      <th>VGK Builders Pvt Ltd</th>\n",
       "      <th>VNR Homes</th>\n",
       "      <th>Velan Housing Properties</th>\n",
       "      <th>Vinay Asrani</th>\n",
       "      <th>other</th>\n",
       "      <th>seller</th>\n",
       "      <th>smartassetsindia</th>\n",
       "      <th>viswaraj</th>\n",
       "    </tr>\n",
       "  </thead>\n",
       "  <tbody>\n",
       "    <tr>\n",
       "      <th>0</th>\n",
       "      <td>261.0</td>\n",
       "      <td>1548</td>\n",
       "      <td>3</td>\n",
       "      <td>Adyar</td>\n",
       "      <td>other</td>\n",
       "      <td>2.0</td>\n",
       "      <td>1.0</td>\n",
       "      <td>1</td>\n",
       "      <td>0</td>\n",
       "      <td>0</td>\n",
       "      <td>...</td>\n",
       "      <td>0</td>\n",
       "      <td>0</td>\n",
       "      <td>0</td>\n",
       "      <td>0</td>\n",
       "      <td>0</td>\n",
       "      <td>0</td>\n",
       "      <td>1</td>\n",
       "      <td>0</td>\n",
       "      <td>0</td>\n",
       "      <td>0</td>\n",
       "    </tr>\n",
       "    <tr>\n",
       "      <th>1</th>\n",
       "      <td>278.0</td>\n",
       "      <td>1652</td>\n",
       "      <td>3</td>\n",
       "      <td>Adyar</td>\n",
       "      <td>other</td>\n",
       "      <td>2.0</td>\n",
       "      <td>1.0</td>\n",
       "      <td>1</td>\n",
       "      <td>0</td>\n",
       "      <td>0</td>\n",
       "      <td>...</td>\n",
       "      <td>0</td>\n",
       "      <td>0</td>\n",
       "      <td>0</td>\n",
       "      <td>0</td>\n",
       "      <td>0</td>\n",
       "      <td>0</td>\n",
       "      <td>1</td>\n",
       "      <td>0</td>\n",
       "      <td>0</td>\n",
       "      <td>0</td>\n",
       "    </tr>\n",
       "    <tr>\n",
       "      <th>2</th>\n",
       "      <td>274.0</td>\n",
       "      <td>1627</td>\n",
       "      <td>3</td>\n",
       "      <td>Adyar</td>\n",
       "      <td>other</td>\n",
       "      <td>2.0</td>\n",
       "      <td>1.0</td>\n",
       "      <td>1</td>\n",
       "      <td>0</td>\n",
       "      <td>0</td>\n",
       "      <td>...</td>\n",
       "      <td>0</td>\n",
       "      <td>0</td>\n",
       "      <td>0</td>\n",
       "      <td>0</td>\n",
       "      <td>0</td>\n",
       "      <td>0</td>\n",
       "      <td>1</td>\n",
       "      <td>0</td>\n",
       "      <td>0</td>\n",
       "      <td>0</td>\n",
       "    </tr>\n",
       "    <tr>\n",
       "      <th>3</th>\n",
       "      <td>210.0</td>\n",
       "      <td>1381</td>\n",
       "      <td>3</td>\n",
       "      <td>Adyar</td>\n",
       "      <td>seller</td>\n",
       "      <td>3.0</td>\n",
       "      <td>0.0</td>\n",
       "      <td>1</td>\n",
       "      <td>0</td>\n",
       "      <td>0</td>\n",
       "      <td>...</td>\n",
       "      <td>0</td>\n",
       "      <td>0</td>\n",
       "      <td>0</td>\n",
       "      <td>0</td>\n",
       "      <td>0</td>\n",
       "      <td>0</td>\n",
       "      <td>0</td>\n",
       "      <td>1</td>\n",
       "      <td>0</td>\n",
       "      <td>0</td>\n",
       "    </tr>\n",
       "    <tr>\n",
       "      <th>6</th>\n",
       "      <td>230.0</td>\n",
       "      <td>1755</td>\n",
       "      <td>3</td>\n",
       "      <td>Adyar</td>\n",
       "      <td>HomeFirst</td>\n",
       "      <td>3.0</td>\n",
       "      <td>0.0</td>\n",
       "      <td>1</td>\n",
       "      <td>0</td>\n",
       "      <td>0</td>\n",
       "      <td>...</td>\n",
       "      <td>0</td>\n",
       "      <td>0</td>\n",
       "      <td>0</td>\n",
       "      <td>0</td>\n",
       "      <td>0</td>\n",
       "      <td>0</td>\n",
       "      <td>0</td>\n",
       "      <td>0</td>\n",
       "      <td>0</td>\n",
       "      <td>0</td>\n",
       "    </tr>\n",
       "  </tbody>\n",
       "</table>\n",
       "<p>5 rows × 122 columns</p>\n",
       "</div>"
      ],
      "text/plain": [
       "   price  area  bhk location    builder  bath  year  Adyar  Alwarpet  \\\n",
       "0  261.0  1548    3    Adyar      other   2.0   1.0      1         0   \n",
       "1  278.0  1652    3    Adyar      other   2.0   1.0      1         0   \n",
       "2  274.0  1627    3    Adyar      other   2.0   1.0      1         0   \n",
       "3  210.0  1381    3    Adyar     seller   3.0   0.0      1         0   \n",
       "6  230.0  1755    3    Adyar  HomeFirst   3.0   0.0      1         0   \n",
       "\n",
       "   Ambattur  ...  The Nest Builder  Urban Tree Infrastructures  \\\n",
       "0         0  ...                 0                           0   \n",
       "1         0  ...                 0                           0   \n",
       "2         0  ...                 0                           0   \n",
       "3         0  ...                 0                           0   \n",
       "6         0  ...                 0                           0   \n",
       "\n",
       "   VGK Builders Pvt Ltd  VNR Homes  Velan Housing Properties  Vinay Asrani  \\\n",
       "0                     0          0                         0             0   \n",
       "1                     0          0                         0             0   \n",
       "2                     0          0                         0             0   \n",
       "3                     0          0                         0             0   \n",
       "6                     0          0                         0             0   \n",
       "\n",
       "   other  seller  smartassetsindia  viswaraj  \n",
       "0      1       0                 0         0  \n",
       "1      1       0                 0         0  \n",
       "2      1       0                 0         0  \n",
       "3      0       1                 0         0  \n",
       "6      0       0                 0         0  \n",
       "\n",
       "[5 rows x 122 columns]"
      ]
     },
     "execution_count": 55,
     "metadata": {},
     "output_type": "execute_result"
    }
   ],
   "source": [
    "df5.head()"
   ]
  },
  {
   "cell_type": "code",
   "execution_count": 56,
   "id": "2f3fb1a0",
   "metadata": {},
   "outputs": [],
   "source": [
    "# Dropping the columns whose value is changed\n",
    "df5.drop(['location','builder'],axis=1,inplace=True)"
   ]
  },
  {
   "cell_type": "code",
   "execution_count": 57,
   "id": "e8863d9b",
   "metadata": {},
   "outputs": [
    {
     "data": {
      "text/html": [
       "<div>\n",
       "<style scoped>\n",
       "    .dataframe tbody tr th:only-of-type {\n",
       "        vertical-align: middle;\n",
       "    }\n",
       "\n",
       "    .dataframe tbody tr th {\n",
       "        vertical-align: top;\n",
       "    }\n",
       "\n",
       "    .dataframe thead th {\n",
       "        text-align: right;\n",
       "    }\n",
       "</style>\n",
       "<table border=\"1\" class=\"dataframe\">\n",
       "  <thead>\n",
       "    <tr style=\"text-align: right;\">\n",
       "      <th></th>\n",
       "      <th>price</th>\n",
       "      <th>area</th>\n",
       "      <th>bhk</th>\n",
       "      <th>bath</th>\n",
       "      <th>year</th>\n",
       "      <th>Adyar</th>\n",
       "      <th>Alwarpet</th>\n",
       "      <th>Ambattur</th>\n",
       "      <th>Anna Nagar</th>\n",
       "      <th>Ayanambakkam</th>\n",
       "      <th>...</th>\n",
       "      <th>The Nest Builder</th>\n",
       "      <th>Urban Tree Infrastructures</th>\n",
       "      <th>VGK Builders Pvt Ltd</th>\n",
       "      <th>VNR Homes</th>\n",
       "      <th>Velan Housing Properties</th>\n",
       "      <th>Vinay Asrani</th>\n",
       "      <th>other</th>\n",
       "      <th>seller</th>\n",
       "      <th>smartassetsindia</th>\n",
       "      <th>viswaraj</th>\n",
       "    </tr>\n",
       "  </thead>\n",
       "  <tbody>\n",
       "    <tr>\n",
       "      <th>0</th>\n",
       "      <td>261.0</td>\n",
       "      <td>1548</td>\n",
       "      <td>3</td>\n",
       "      <td>2.0</td>\n",
       "      <td>1.0</td>\n",
       "      <td>1</td>\n",
       "      <td>0</td>\n",
       "      <td>0</td>\n",
       "      <td>0</td>\n",
       "      <td>0</td>\n",
       "      <td>...</td>\n",
       "      <td>0</td>\n",
       "      <td>0</td>\n",
       "      <td>0</td>\n",
       "      <td>0</td>\n",
       "      <td>0</td>\n",
       "      <td>0</td>\n",
       "      <td>1</td>\n",
       "      <td>0</td>\n",
       "      <td>0</td>\n",
       "      <td>0</td>\n",
       "    </tr>\n",
       "    <tr>\n",
       "      <th>1</th>\n",
       "      <td>278.0</td>\n",
       "      <td>1652</td>\n",
       "      <td>3</td>\n",
       "      <td>2.0</td>\n",
       "      <td>1.0</td>\n",
       "      <td>1</td>\n",
       "      <td>0</td>\n",
       "      <td>0</td>\n",
       "      <td>0</td>\n",
       "      <td>0</td>\n",
       "      <td>...</td>\n",
       "      <td>0</td>\n",
       "      <td>0</td>\n",
       "      <td>0</td>\n",
       "      <td>0</td>\n",
       "      <td>0</td>\n",
       "      <td>0</td>\n",
       "      <td>1</td>\n",
       "      <td>0</td>\n",
       "      <td>0</td>\n",
       "      <td>0</td>\n",
       "    </tr>\n",
       "    <tr>\n",
       "      <th>2</th>\n",
       "      <td>274.0</td>\n",
       "      <td>1627</td>\n",
       "      <td>3</td>\n",
       "      <td>2.0</td>\n",
       "      <td>1.0</td>\n",
       "      <td>1</td>\n",
       "      <td>0</td>\n",
       "      <td>0</td>\n",
       "      <td>0</td>\n",
       "      <td>0</td>\n",
       "      <td>...</td>\n",
       "      <td>0</td>\n",
       "      <td>0</td>\n",
       "      <td>0</td>\n",
       "      <td>0</td>\n",
       "      <td>0</td>\n",
       "      <td>0</td>\n",
       "      <td>1</td>\n",
       "      <td>0</td>\n",
       "      <td>0</td>\n",
       "      <td>0</td>\n",
       "    </tr>\n",
       "    <tr>\n",
       "      <th>3</th>\n",
       "      <td>210.0</td>\n",
       "      <td>1381</td>\n",
       "      <td>3</td>\n",
       "      <td>3.0</td>\n",
       "      <td>0.0</td>\n",
       "      <td>1</td>\n",
       "      <td>0</td>\n",
       "      <td>0</td>\n",
       "      <td>0</td>\n",
       "      <td>0</td>\n",
       "      <td>...</td>\n",
       "      <td>0</td>\n",
       "      <td>0</td>\n",
       "      <td>0</td>\n",
       "      <td>0</td>\n",
       "      <td>0</td>\n",
       "      <td>0</td>\n",
       "      <td>0</td>\n",
       "      <td>1</td>\n",
       "      <td>0</td>\n",
       "      <td>0</td>\n",
       "    </tr>\n",
       "    <tr>\n",
       "      <th>6</th>\n",
       "      <td>230.0</td>\n",
       "      <td>1755</td>\n",
       "      <td>3</td>\n",
       "      <td>3.0</td>\n",
       "      <td>0.0</td>\n",
       "      <td>1</td>\n",
       "      <td>0</td>\n",
       "      <td>0</td>\n",
       "      <td>0</td>\n",
       "      <td>0</td>\n",
       "      <td>...</td>\n",
       "      <td>0</td>\n",
       "      <td>0</td>\n",
       "      <td>0</td>\n",
       "      <td>0</td>\n",
       "      <td>0</td>\n",
       "      <td>0</td>\n",
       "      <td>0</td>\n",
       "      <td>0</td>\n",
       "      <td>0</td>\n",
       "      <td>0</td>\n",
       "    </tr>\n",
       "  </tbody>\n",
       "</table>\n",
       "<p>5 rows × 120 columns</p>\n",
       "</div>"
      ],
      "text/plain": [
       "   price  area  bhk  bath  year  Adyar  Alwarpet  Ambattur  Anna Nagar  \\\n",
       "0  261.0  1548    3   2.0   1.0      1         0         0           0   \n",
       "1  278.0  1652    3   2.0   1.0      1         0         0           0   \n",
       "2  274.0  1627    3   2.0   1.0      1         0         0           0   \n",
       "3  210.0  1381    3   3.0   0.0      1         0         0           0   \n",
       "6  230.0  1755    3   3.0   0.0      1         0         0           0   \n",
       "\n",
       "   Ayanambakkam  ...  The Nest Builder  Urban Tree Infrastructures  \\\n",
       "0             0  ...                 0                           0   \n",
       "1             0  ...                 0                           0   \n",
       "2             0  ...                 0                           0   \n",
       "3             0  ...                 0                           0   \n",
       "6             0  ...                 0                           0   \n",
       "\n",
       "   VGK Builders Pvt Ltd  VNR Homes  Velan Housing Properties  Vinay Asrani  \\\n",
       "0                     0          0                         0             0   \n",
       "1                     0          0                         0             0   \n",
       "2                     0          0                         0             0   \n",
       "3                     0          0                         0             0   \n",
       "6                     0          0                         0             0   \n",
       "\n",
       "   other  seller  smartassetsindia  viswaraj  \n",
       "0      1       0                 0         0  \n",
       "1      1       0                 0         0  \n",
       "2      1       0                 0         0  \n",
       "3      0       1                 0         0  \n",
       "6      0       0                 0         0  \n",
       "\n",
       "[5 rows x 120 columns]"
      ]
     },
     "execution_count": 57,
     "metadata": {},
     "output_type": "execute_result"
    }
   ],
   "source": [
    "df5.head()"
   ]
  },
  {
   "cell_type": "code",
   "execution_count": 58,
   "id": "392bebcb",
   "metadata": {},
   "outputs": [
    {
     "data": {
      "text/html": [
       "<div>\n",
       "<style scoped>\n",
       "    .dataframe tbody tr th:only-of-type {\n",
       "        vertical-align: middle;\n",
       "    }\n",
       "\n",
       "    .dataframe tbody tr th {\n",
       "        vertical-align: top;\n",
       "    }\n",
       "\n",
       "    .dataframe thead th {\n",
       "        text-align: right;\n",
       "    }\n",
       "</style>\n",
       "<table border=\"1\" class=\"dataframe\">\n",
       "  <thead>\n",
       "    <tr style=\"text-align: right;\">\n",
       "      <th></th>\n",
       "      <th>area</th>\n",
       "      <th>bhk</th>\n",
       "      <th>bath</th>\n",
       "      <th>year</th>\n",
       "      <th>Adyar</th>\n",
       "      <th>Alwarpet</th>\n",
       "      <th>Ambattur</th>\n",
       "      <th>Anna Nagar</th>\n",
       "      <th>Ayanambakkam</th>\n",
       "      <th>Chromepet</th>\n",
       "      <th>...</th>\n",
       "      <th>The Nest Builder</th>\n",
       "      <th>Urban Tree Infrastructures</th>\n",
       "      <th>VGK Builders Pvt Ltd</th>\n",
       "      <th>VNR Homes</th>\n",
       "      <th>Velan Housing Properties</th>\n",
       "      <th>Vinay Asrani</th>\n",
       "      <th>other</th>\n",
       "      <th>seller</th>\n",
       "      <th>smartassetsindia</th>\n",
       "      <th>viswaraj</th>\n",
       "    </tr>\n",
       "  </thead>\n",
       "  <tbody>\n",
       "    <tr>\n",
       "      <th>0</th>\n",
       "      <td>1548</td>\n",
       "      <td>3</td>\n",
       "      <td>2.0</td>\n",
       "      <td>1.0</td>\n",
       "      <td>1</td>\n",
       "      <td>0</td>\n",
       "      <td>0</td>\n",
       "      <td>0</td>\n",
       "      <td>0</td>\n",
       "      <td>0</td>\n",
       "      <td>...</td>\n",
       "      <td>0</td>\n",
       "      <td>0</td>\n",
       "      <td>0</td>\n",
       "      <td>0</td>\n",
       "      <td>0</td>\n",
       "      <td>0</td>\n",
       "      <td>1</td>\n",
       "      <td>0</td>\n",
       "      <td>0</td>\n",
       "      <td>0</td>\n",
       "    </tr>\n",
       "    <tr>\n",
       "      <th>1</th>\n",
       "      <td>1652</td>\n",
       "      <td>3</td>\n",
       "      <td>2.0</td>\n",
       "      <td>1.0</td>\n",
       "      <td>1</td>\n",
       "      <td>0</td>\n",
       "      <td>0</td>\n",
       "      <td>0</td>\n",
       "      <td>0</td>\n",
       "      <td>0</td>\n",
       "      <td>...</td>\n",
       "      <td>0</td>\n",
       "      <td>0</td>\n",
       "      <td>0</td>\n",
       "      <td>0</td>\n",
       "      <td>0</td>\n",
       "      <td>0</td>\n",
       "      <td>1</td>\n",
       "      <td>0</td>\n",
       "      <td>0</td>\n",
       "      <td>0</td>\n",
       "    </tr>\n",
       "    <tr>\n",
       "      <th>2</th>\n",
       "      <td>1627</td>\n",
       "      <td>3</td>\n",
       "      <td>2.0</td>\n",
       "      <td>1.0</td>\n",
       "      <td>1</td>\n",
       "      <td>0</td>\n",
       "      <td>0</td>\n",
       "      <td>0</td>\n",
       "      <td>0</td>\n",
       "      <td>0</td>\n",
       "      <td>...</td>\n",
       "      <td>0</td>\n",
       "      <td>0</td>\n",
       "      <td>0</td>\n",
       "      <td>0</td>\n",
       "      <td>0</td>\n",
       "      <td>0</td>\n",
       "      <td>1</td>\n",
       "      <td>0</td>\n",
       "      <td>0</td>\n",
       "      <td>0</td>\n",
       "    </tr>\n",
       "    <tr>\n",
       "      <th>3</th>\n",
       "      <td>1381</td>\n",
       "      <td>3</td>\n",
       "      <td>3.0</td>\n",
       "      <td>0.0</td>\n",
       "      <td>1</td>\n",
       "      <td>0</td>\n",
       "      <td>0</td>\n",
       "      <td>0</td>\n",
       "      <td>0</td>\n",
       "      <td>0</td>\n",
       "      <td>...</td>\n",
       "      <td>0</td>\n",
       "      <td>0</td>\n",
       "      <td>0</td>\n",
       "      <td>0</td>\n",
       "      <td>0</td>\n",
       "      <td>0</td>\n",
       "      <td>0</td>\n",
       "      <td>1</td>\n",
       "      <td>0</td>\n",
       "      <td>0</td>\n",
       "    </tr>\n",
       "    <tr>\n",
       "      <th>6</th>\n",
       "      <td>1755</td>\n",
       "      <td>3</td>\n",
       "      <td>3.0</td>\n",
       "      <td>0.0</td>\n",
       "      <td>1</td>\n",
       "      <td>0</td>\n",
       "      <td>0</td>\n",
       "      <td>0</td>\n",
       "      <td>0</td>\n",
       "      <td>0</td>\n",
       "      <td>...</td>\n",
       "      <td>0</td>\n",
       "      <td>0</td>\n",
       "      <td>0</td>\n",
       "      <td>0</td>\n",
       "      <td>0</td>\n",
       "      <td>0</td>\n",
       "      <td>0</td>\n",
       "      <td>0</td>\n",
       "      <td>0</td>\n",
       "      <td>0</td>\n",
       "    </tr>\n",
       "  </tbody>\n",
       "</table>\n",
       "<p>5 rows × 119 columns</p>\n",
       "</div>"
      ],
      "text/plain": [
       "   area  bhk  bath  year  Adyar  Alwarpet  Ambattur  Anna Nagar  Ayanambakkam  \\\n",
       "0  1548    3   2.0   1.0      1         0         0           0             0   \n",
       "1  1652    3   2.0   1.0      1         0         0           0             0   \n",
       "2  1627    3   2.0   1.0      1         0         0           0             0   \n",
       "3  1381    3   3.0   0.0      1         0         0           0             0   \n",
       "6  1755    3   3.0   0.0      1         0         0           0             0   \n",
       "\n",
       "   Chromepet  ...  The Nest Builder  Urban Tree Infrastructures  \\\n",
       "0          0  ...                 0                           0   \n",
       "1          0  ...                 0                           0   \n",
       "2          0  ...                 0                           0   \n",
       "3          0  ...                 0                           0   \n",
       "6          0  ...                 0                           0   \n",
       "\n",
       "   VGK Builders Pvt Ltd  VNR Homes  Velan Housing Properties  Vinay Asrani  \\\n",
       "0                     0          0                         0             0   \n",
       "1                     0          0                         0             0   \n",
       "2                     0          0                         0             0   \n",
       "3                     0          0                         0             0   \n",
       "6                     0          0                         0             0   \n",
       "\n",
       "   other  seller  smartassetsindia  viswaraj  \n",
       "0      1       0                 0         0  \n",
       "1      1       0                 0         0  \n",
       "2      1       0                 0         0  \n",
       "3      0       1                 0         0  \n",
       "6      0       0                 0         0  \n",
       "\n",
       "[5 rows x 119 columns]"
      ]
     },
     "execution_count": 58,
     "metadata": {},
     "output_type": "execute_result"
    }
   ],
   "source": [
    "X = df5.drop(['price'],axis=1)\n",
    "X.head()"
   ]
  },
  {
   "cell_type": "code",
   "execution_count": 59,
   "id": "c7b21108",
   "metadata": {},
   "outputs": [
    {
     "data": {
      "text/plain": [
       "(1592, 119)"
      ]
     },
     "execution_count": 59,
     "metadata": {},
     "output_type": "execute_result"
    }
   ],
   "source": [
    "X.shape"
   ]
  },
  {
   "cell_type": "code",
   "execution_count": 60,
   "id": "4187bb8c",
   "metadata": {},
   "outputs": [
    {
     "data": {
      "text/plain": [
       "0    261.0\n",
       "1    278.0\n",
       "2    274.0\n",
       "3    210.0\n",
       "6    230.0\n",
       "Name: price, dtype: float64"
      ]
     },
     "execution_count": 60,
     "metadata": {},
     "output_type": "execute_result"
    }
   ],
   "source": [
    "y = df5.price\n",
    "y.head()"
   ]
  },
  {
   "cell_type": "code",
   "execution_count": 61,
   "id": "f678733c",
   "metadata": {},
   "outputs": [
    {
     "data": {
      "text/plain": [
       "1592"
      ]
     },
     "execution_count": 61,
     "metadata": {},
     "output_type": "execute_result"
    }
   ],
   "source": [
    "len(y)"
   ]
  },
  {
   "cell_type": "code",
   "execution_count": 62,
   "id": "39e1f6b2",
   "metadata": {},
   "outputs": [],
   "source": [
    "# Splitting for test and train\n",
    "from sklearn.model_selection import train_test_split\n",
    "X_train, X_test, y_train, y_test = train_test_split(X,y,test_size=0.2,random_state=10)"
   ]
  },
  {
   "cell_type": "code",
   "execution_count": 63,
   "id": "ea807426",
   "metadata": {},
   "outputs": [
    {
     "data": {
      "text/plain": [
       "0.9467567981552489"
      ]
     },
     "execution_count": 63,
     "metadata": {},
     "output_type": "execute_result"
    }
   ],
   "source": [
    "# Implementing Liner Regression\n",
    "from sklearn.linear_model import LinearRegression\n",
    "lr_clf = LinearRegression()\n",
    "lr_clf.fit(X_train,y_train)\n",
    "lr_clf.score(X_test,y_test)"
   ]
  },
  {
   "cell_type": "code",
   "execution_count": 64,
   "id": "cdfc1056",
   "metadata": {},
   "outputs": [],
   "source": [
    "# Function to predict price\n",
    "def predict_price(location,builder,sqft,bath,bhk,year):    \n",
    "    loc_index = np.where(X.columns==location)[0][0]\n",
    "    builder_index = np.where(X.columns==builder)[0][0]\n",
    "\n",
    "    x = np.zeros(len(X.columns))\n",
    "    x[0] = sqft\n",
    "    x[1] = bhk\n",
    "    x[2] = bath\n",
    "    x[3] = year\n",
    "    if loc_index >= 0:\n",
    "        x[loc_index] = 1\n",
    "    if builder_index >= 0:\n",
    "        x[builder_index] = 1\n",
    "\n",
    "    return lr_clf.predict([x])[0]"
   ]
  },
  {
   "cell_type": "code",
   "execution_count": 65,
   "id": "77ee9991",
   "metadata": {},
   "outputs": [
    {
     "data": {
      "text/plain": [
       "64.76506051272864"
      ]
     },
     "execution_count": 65,
     "metadata": {},
     "output_type": "execute_result"
    }
   ],
   "source": [
    "predict_price('Pammal','MC Foundation',1000, 2, 2, 1)"
   ]
  },
  {
   "cell_type": "code",
   "execution_count": 66,
   "id": "6281ada8",
   "metadata": {},
   "outputs": [
    {
     "data": {
      "text/plain": [
       "49.25303491211624"
      ]
     },
     "execution_count": 66,
     "metadata": {},
     "output_type": "execute_result"
    }
   ],
   "source": [
    "predict_price('Pammal','seller',1000, 3, 3, 1)"
   ]
  },
  {
   "cell_type": "code",
   "execution_count": 67,
   "id": "62825ba6",
   "metadata": {},
   "outputs": [
    {
     "data": {
      "text/plain": [
       "143.81285420997077"
      ]
     },
     "execution_count": 67,
     "metadata": {},
     "output_type": "execute_result"
    }
   ],
   "source": [
    "predict_price('Pammal','Appaswamy Real Estate',2000, 3, 3, 5)"
   ]
  },
  {
   "cell_type": "code",
   "execution_count": 68,
   "id": "1d274a13",
   "metadata": {},
   "outputs": [
    {
     "data": {
      "text/plain": [
       "10.021463114308162"
      ]
     },
     "execution_count": 68,
     "metadata": {},
     "output_type": "execute_result"
    }
   ],
   "source": [
    "predict_price('Veppampattu','Propsource Realty Private Limited',1000, 3, 3, 0)"
   ]
  },
  {
   "cell_type": "code",
   "execution_count": 69,
   "id": "3e50c7e0",
   "metadata": {},
   "outputs": [
    {
     "data": {
      "text/plain": [
       "143.87373179969805"
      ]
     },
     "execution_count": 69,
     "metadata": {},
     "output_type": "execute_result"
    }
   ],
   "source": [
    "predict_price('Veppampattu','Radiance Realty Developers',2000, 3, 3, 2)"
   ]
  }
 ],
 "metadata": {
  "kernelspec": {
   "display_name": "Python 3 (ipykernel)",
   "language": "python",
   "name": "python3"
  },
  "language_info": {
   "codemirror_mode": {
    "name": "ipython",
    "version": 3
   },
   "file_extension": ".py",
   "mimetype": "text/x-python",
   "name": "python",
   "nbconvert_exporter": "python",
   "pygments_lexer": "ipython3",
   "version": "3.8.11"
  }
 },
 "nbformat": 4,
 "nbformat_minor": 5
}
